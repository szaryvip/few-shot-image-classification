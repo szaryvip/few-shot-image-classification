{
 "cells": [
  {
   "cell_type": "code",
   "execution_count": null,
   "metadata": {},
   "outputs": [],
   "source": [
    "import torch\n",
    "from models.feature_extractor import get_pretrained_model, get_transform\n",
    "from models.baseline import Baseline\n",
    "from datasets.download_data import download_data\n",
    "from datasets.consts import Dataset, DatasetType\n",
    "from datasets.get_data_loader import get_data_loader\n",
    "from utils import count_learnable_params, count_non_learnable_params\n",
    "import time\n",
    "from utils import divide_into_query_and_support\n",
    "import wandb\n",
    "import matplotlib.pyplot as plt\n",
    "from sklearn.manifold import TSNE\n",
    "import numpy as np"
   ]
  },
  {
   "cell_type": "code",
   "execution_count": null,
   "metadata": {},
   "outputs": [],
   "source": [
    "# device = torch.device(\"cuda:0\" if torch.cuda.is_available() else \"cpu\")\n",
    "# device\n",
    "\n",
    "way = 5\n",
    "shot = 5"
   ]
  },
  {
   "cell_type": "code",
   "execution_count": null,
   "metadata": {},
   "outputs": [],
   "source": [
    "dataset = Dataset.CUB200\n",
    "train_transform, test_transform = get_transform(\"timm/vit_base_patch16_clip_224.openai\", is_not_pil=True if dataset == Dataset.MINI_IMAGENET else False)\n",
    "\n",
    "test = download_data(dataset, DatasetType.TEST, transform=test_transform)\n",
    "print(dataset)\n",
    "print(len(test))"
   ]
  },
  {
   "cell_type": "code",
   "execution_count": null,
   "metadata": {},
   "outputs": [],
   "source": [
    "fe = get_pretrained_model(\"timm/vit_base_patch16_clip_224.openai\")\n",
    "model = Baseline(fe)\n",
    "\n",
    "learnable_params = count_learnable_params(model.feature_extractor)\n",
    "non_learnable_params = count_non_learnable_params(model.feature_extractor)\n",
    "print(f\"Learnable parameters: {learnable_params}\")\n",
    "print(f\"Non-learnable parameters: {non_learnable_params}\")"
   ]
  },
  {
   "cell_type": "code",
   "execution_count": null,
   "metadata": {},
   "outputs": [],
   "source": [
    "test_loader = get_data_loader(test, way, shot, 15, False)"
   ]
  },
  {
   "cell_type": "code",
   "execution_count": null,
   "metadata": {},
   "outputs": [],
   "source": [
    "sum_acc = 0\n",
    "with torch.no_grad():\n",
    "    for i, (X, labels) in enumerate(test_loader):\n",
    "        suppX, queryX, suppY, queryY = divide_into_query_and_support(X, labels, way, shot)\n",
    "        queryY = queryY.squeeze(0)\n",
    "        supp_groups, query_groups, supp_features, query_features = model.get_groups_and_features(suppX, queryX, way)\n",
    "        \n",
    "        acc = model.calculate_accuracy(query_groups, queryY)\n",
    "        sum_acc += acc\n",
    "\n",
    "print(\"Average Accuracy: \", (sum_acc/i)*100, \"%\")   \n",
    "                \n",
    "all_features = np.vstack((supp_features, query_features))\n",
    "\n",
    "tsne = TSNE(n_components=2, perplexity=10, random_state=42, max_iter=5000)\n",
    "reduced_features = tsne.fit_transform(all_features)\n",
    "\n",
    "supp_reduced = reduced_features[:supp_features.shape[0]]\n",
    "query_reduced = reduced_features[supp_features.shape[0]:]\n",
    "\n",
    "plt.figure(figsize=(8, 6))\n",
    "scatter1 = plt.scatter(supp_reduced[:, 0], supp_reduced[:, 1], c=supp_groups, marker='o', cmap=\"jet\", edgecolors=\"k\", label=\"Support Set\")\n",
    "scatter2 = plt.scatter(query_reduced[:, 0], query_reduced[:, 1], c=query_groups, marker='x', cmap=\"jet\", label=\"Query Set\")\n",
    "\n",
    "plt.title(\"Sample Support and Query Set Clustering using t-SNE\")\n",
    "plt.legend()\n",
    "plt.show()\n",
    "        \n",
    "        "
   ]
  }
 ],
 "metadata": {
  "kernelspec": {
   "display_name": "few-shot",
   "language": "python",
   "name": "python3"
  },
  "language_info": {
   "codemirror_mode": {
    "name": "ipython",
    "version": 3
   },
   "file_extension": ".py",
   "mimetype": "text/x-python",
   "name": "python",
   "nbconvert_exporter": "python",
   "pygments_lexer": "ipython3",
   "version": "3.10.12"
  }
 },
 "nbformat": 4,
 "nbformat_minor": 2
}
