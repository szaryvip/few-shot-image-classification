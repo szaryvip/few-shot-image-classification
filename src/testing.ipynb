{
 "cells": [
  {
   "cell_type": "code",
   "execution_count": 1,
   "metadata": {},
   "outputs": [
    {
     "name": "stderr",
     "output_type": "stream",
     "text": [
      "/home/lszarejko/.pyenv/versions/few-shot/lib/python3.10/site-packages/tqdm/auto.py:21: TqdmWarning: IProgress not found. Please update jupyter and ipywidgets. See https://ipywidgets.readthedocs.io/en/stable/user_install.html\n",
      "  from .autonotebook import tqdm as notebook_tqdm\n"
     ]
    }
   ],
   "source": [
    "from datasets.download_data import download_data\n",
    "from datasets.consts import Dataset, DatasetType\n",
    "from models.CAML import CAML\n",
    "from models.feature_extractor import get_pretrained_model, get_transform\n",
    "from utils import divide_into_query_and_support, get_accuracy_from_logits, count_learnable_params, count_non_learnable_params\n",
    "import learn2learn as l2l\n",
    "import time\n",
    "import torch\n",
    "import torchvision\n",
    "import tqdm\n",
    "import wandb"
   ]
  },
  {
   "cell_type": "code",
   "execution_count": 2,
   "metadata": {},
   "outputs": [
    {
     "data": {
      "text/plain": [
       "device(type='cuda', index=0)"
      ]
     },
     "execution_count": 2,
     "metadata": {},
     "output_type": "execute_result"
    }
   ],
   "source": [
    "device = torch.device(\"cuda:0\" if torch.cuda.is_available() else \"cpu\")\n",
    "device\n",
    "# device = \"cpu\" # Due to CUDA error"
   ]
  },
  {
   "cell_type": "code",
   "execution_count": null,
   "metadata": {},
   "outputs": [
    {
     "name": "stderr",
     "output_type": "stream",
     "text": [
      "\u001b[34m\u001b[1mwandb\u001b[0m: Using wandb-core as the SDK backend.  Please refer to https://wandb.me/wandb-core for more information.\n",
      "\u001b[34m\u001b[1mwandb\u001b[0m: Currently logged in as: \u001b[33mszaryvip\u001b[0m (\u001b[33mmgr-few-shot\u001b[0m). Use \u001b[1m`wandb login --relogin`\u001b[0m to force relogin\n"
     ]
    },
    {
     "data": {
      "text/html": [
       "Tracking run with wandb version 0.19.0"
      ],
      "text/plain": [
       "<IPython.core.display.HTML object>"
      ]
     },
     "metadata": {},
     "output_type": "display_data"
    },
    {
     "data": {
      "text/html": [
       "Run data is saved locally in <code>/home/lszarejko/MGR/few-shot-image-classification/src/wandb/run-20241207_103736-rs5h5bov</code>"
      ],
      "text/plain": [
       "<IPython.core.display.HTML object>"
      ]
     },
     "metadata": {},
     "output_type": "display_data"
    },
    {
     "data": {
      "text/html": [
       "Syncing run <strong><a href='https://wandb.ai/mgr-few-shot/few-shot-learning/runs/rs5h5bov' target=\"_blank\">fearless-dew-36</a></strong> to <a href='https://wandb.ai/mgr-few-shot/few-shot-learning' target=\"_blank\">Weights & Biases</a> (<a href='https://wandb.me/developer-guide' target=\"_blank\">docs</a>)<br/>"
      ],
      "text/plain": [
       "<IPython.core.display.HTML object>"
      ]
     },
     "metadata": {},
     "output_type": "display_data"
    },
    {
     "data": {
      "text/html": [
       " View project at <a href='https://wandb.ai/mgr-few-shot/few-shot-learning' target=\"_blank\">https://wandb.ai/mgr-few-shot/few-shot-learning</a>"
      ],
      "text/plain": [
       "<IPython.core.display.HTML object>"
      ]
     },
     "metadata": {},
     "output_type": "display_data"
    },
    {
     "data": {
      "text/html": [
       " View run at <a href='https://wandb.ai/mgr-few-shot/few-shot-learning/runs/rs5h5bov' target=\"_blank\">https://wandb.ai/mgr-few-shot/few-shot-learning/runs/rs5h5bov</a>"
      ],
      "text/plain": [
       "<IPython.core.display.HTML object>"
      ]
     },
     "metadata": {},
     "output_type": "display_data"
    },
    {
     "data": {
      "text/html": [
       "<button onClick=\"this.nextSibling.style.display='block';this.style.display='none';\">Display W&B run</button><iframe src='https://wandb.ai/mgr-few-shot/few-shot-learning/runs/rs5h5bov?jupyter=true' style='border:none;width:100%;height:420px;display:none;'></iframe>"
      ],
      "text/plain": [
       "<wandb.sdk.wandb_run.Run at 0x7fa9cdde6200>"
      ]
     },
     "execution_count": 3,
     "metadata": {},
     "output_type": "execute_result"
    },
    {
     "name": "stderr",
     "output_type": "stream",
     "text": [
      "\u001b[34m\u001b[1mwandb\u001b[0m: \u001b[33mWARNING\u001b[0m Fatal error while uploading data. Some run data will not be synced, but it will still be written to disk. Use `wandb sync` at the end of the run to try uploading.\n"
     ]
    }
   ],
   "source": [
    "wandb.init(project=\"few-shot-learning\", config={\"architecture\": \"CAML\", \"dataset\": \"mini-imagenet\"})"
   ]
  },
  {
   "cell_type": "code",
   "execution_count": 4,
   "metadata": {},
   "outputs": [],
   "source": [
    "train_transform, test_transform = get_transform(\"timm/vit_base_patch16_clip_224.laion2b_ft_in12k_in1k\")\n",
    "train_transform = torchvision.transforms.Compose(train_transform.transforms[:-2])\n",
    "test_transform = torchvision.transforms.Compose(test_transform.transforms[:-2])\n",
    "train = download_data(Dataset.MINI_IMAGENET, DatasetType.TRAIN, transform=train_transform)\n",
    "valid = download_data(Dataset.MINI_IMAGENET, DatasetType.VAL, transform=test_transform)\n",
    "# test = download_data(Dataset.MINI_IMAGENET, DatasetType.TEST, transform=test_transform)"
   ]
  },
  {
   "cell_type": "code",
   "execution_count": 5,
   "metadata": {},
   "outputs": [],
   "source": [
    "fe = get_pretrained_model(\"timm/vit_base_patch16_clip_224.laion2b_ft_in12k_in1k\")\n",
    "model = CAML(feature_extractor=fe, fe_dim=768, fe_dtype=torch.float32, train_fe=False, encoder_size='tiny', device=device).to(device)\n",
    "\n",
    "criterion = torch.nn.CrossEntropyLoss()\n",
    "optimizer = torch.optim.Adam(model.parameters(), lr=0.001)"
   ]
  },
  {
   "cell_type": "code",
   "execution_count": 6,
   "metadata": {},
   "outputs": [
    {
     "name": "stdout",
     "output_type": "stream",
     "text": [
      "Learnable parameters: 25214209\n",
      "Non-learnable parameters: 85800704\n"
     ]
    }
   ],
   "source": [
    "learnable_params = count_learnable_params(model)\n",
    "non_learnable_params = count_non_learnable_params(model)\n",
    "print(f\"Learnable parameters: {learnable_params}\")\n",
    "print(f\"Non-learnable parameters: {non_learnable_params}\")"
   ]
  },
  {
   "cell_type": "code",
   "execution_count": 7,
   "metadata": {},
   "outputs": [],
   "source": [
    "way=5\n",
    "shot=3\n",
    "epochs=5"
   ]
  },
  {
   "cell_type": "code",
   "execution_count": 8,
   "metadata": {},
   "outputs": [],
   "source": [
    "train_dataset = l2l.data.MetaDataset(train)\n",
    "transforms = [\n",
    "    l2l.data.transforms.FusedNWaysKShots(train_dataset, n=way, k=shot+1),\n",
    "    l2l.data.transforms.LoadData(train_dataset),\n",
    "    l2l.data.transforms.RemapLabels(train_dataset),\n",
    "]\n",
    "\n",
    "train_tasksets = l2l.data.Taskset(train_dataset, task_transforms=transforms, num_tasks=10)\n",
    "train_loader = torch.utils.data.DataLoader(train_tasksets, shuffle=True)"
   ]
  },
  {
   "cell_type": "code",
   "execution_count": 9,
   "metadata": {},
   "outputs": [],
   "source": [
    "valid_dataset = l2l.data.MetaDataset(valid)\n",
    "transforms = [\n",
    "    l2l.data.transforms.FusedNWaysKShots(valid_dataset, n=way, k=shot+1),\n",
    "    l2l.data.transforms.LoadData(valid_dataset),\n",
    "    l2l.data.transforms.RemapLabels(valid_dataset),\n",
    "]\n",
    "valid_tasksets = l2l.data.Taskset(valid_dataset, task_transforms=transforms, num_tasks=100)\n",
    "valid_loader = torch.utils.data.DataLoader(valid_tasksets, shuffle=True)"
   ]
  },
  {
   "cell_type": "code",
   "execution_count": 10,
   "metadata": {},
   "outputs": [],
   "source": [
    "# test_dataset = l2l.data.MetaDataset(test)\n",
    "# transforms = [\n",
    "#     l2l.data.transforms.FusedNWaysKShots(test_dataset, n=way, k=shot+1),\n",
    "#     l2l.data.transforms.LoadData(test_dataset),\n",
    "#     l2l.data.transforms.RemapLabels(test_dataset),\n",
    "# ]\n",
    "# test_tasksets = l2l.data.Taskset(test_dataset, task_transforms=transforms, num_tasks=100)\n",
    "# test_loader = torch.utils.data.DataLoader(test_tasksets, shuffle=True)"
   ]
  },
  {
   "cell_type": "code",
   "execution_count": 13,
   "metadata": {},
   "outputs": [
    {
     "name": "stderr",
     "output_type": "stream",
     "text": [
      "  0%|          | 0/5 [00:00<?, ?it/s]"
     ]
    },
    {
     "name": "stdout",
     "output_type": "stream",
     "text": [
      "Epoch 0 - Loss: 3.9555023431777956, Acc: 18.0, Time: 6.9784934520721436\n"
     ]
    },
    {
     "name": "stderr",
     "output_type": "stream",
     "text": [
      " 20%|██        | 1/5 [01:13<04:54, 73.72s/it]"
     ]
    },
    {
     "name": "stdout",
     "output_type": "stream",
     "text": [
      "Validation - Loss: 2.4787175178527834, Acc: 20.0, Time: 73.71824431419373\n",
      "Epoch 1 - Loss: 1.889948844909668, Acc: 22.0, Time: 6.891533613204956\n"
     ]
    },
    {
     "name": "stderr",
     "output_type": "stream",
     "text": [
      " 40%|████      | 2/5 [02:27<03:40, 73.57s/it]"
     ]
    },
    {
     "name": "stdout",
     "output_type": "stream",
     "text": [
      "Validation - Loss: 1.6772475862503051, Acc: 20.0, Time: 73.47093033790588\n",
      "Epoch 2 - Loss: 1.64488285779953, Acc: 26.0, Time: 6.909821033477783\n"
     ]
    },
    {
     "name": "stderr",
     "output_type": "stream",
     "text": [
      " 60%|██████    | 3/5 [03:40<02:26, 73.49s/it]"
     ]
    },
    {
     "name": "stdout",
     "output_type": "stream",
     "text": [
      "Validation - Loss: 1.6138462042808532, Acc: 19.0, Time: 73.38893342018127\n",
      "Epoch 3 - Loss: 1.57606098651886, Acc: 34.0, Time: 6.867777109146118\n"
     ]
    },
    {
     "name": "stderr",
     "output_type": "stream",
     "text": [
      " 80%|████████  | 4/5 [04:54<01:13, 73.50s/it]"
     ]
    },
    {
     "name": "stdout",
     "output_type": "stream",
     "text": [
      "Validation - Loss: 1.61329726934433, Acc: 20.6, Time: 73.51720476150513\n",
      "Epoch 4 - Loss: 1.5278473258018495, Acc: 34.0, Time: 7.0167436599731445\n"
     ]
    },
    {
     "name": "stderr",
     "output_type": "stream",
     "text": [
      "100%|██████████| 5/5 [06:07<00:00, 73.52s/it]"
     ]
    },
    {
     "name": "stdout",
     "output_type": "stream",
     "text": [
      "Validation - Loss: 1.6220751667022706, Acc: 20.4, Time: 73.48469114303589\n"
     ]
    },
    {
     "name": "stderr",
     "output_type": "stream",
     "text": [
      "\n"
     ]
    }
   ],
   "source": [
    "best_val_acc = 0\n",
    "for epoch in tqdm.tqdm(range(epochs)):\n",
    "    epoch_start = time.time()\n",
    "    # Training\n",
    "    model.train()\n",
    "    avg_loss = 0.0\n",
    "    avg_acc = 0.0\n",
    "    for i, (X, labels) in enumerate(train_loader):\n",
    "        optimizer.zero_grad()\n",
    "        X, labels = X.to(device), labels.to(device)\n",
    "        suppX, queryX, suppY, queryY = divide_into_query_and_support(X, labels, way, shot)\n",
    "        X = torch.cat([suppX, queryX], dim=1).squeeze(0)\n",
    "        suppY = suppY.squeeze(0)\n",
    "        queryY = queryY.squeeze(0)\n",
    "        \n",
    "        # CAML model divide the input into support and query set, labels should only be support labels\n",
    "        # inp.shape = [way*(shot+1), channels, height, width] where last way-number of images are query images\n",
    "        logits = model(X, suppY, way=way, shot=shot)\n",
    "        loss = criterion(logits, queryY)\n",
    "        loss.backward()\n",
    "        optimizer.step()\n",
    "        \n",
    "        loss_value = loss.item()\n",
    "        acc = get_accuracy_from_logits(logits, queryY)\n",
    "        avg_acc += acc\n",
    "        avg_loss += loss_value\n",
    "    train_epoch_time = time.time() - epoch_start\n",
    "    avg_acc = avg_acc / (i + 1)\n",
    "    avg_loss = avg_loss / (i + 1)\n",
    "    print(f\"Epoch {epoch} - Loss: {avg_loss}, Acc: {avg_acc}, Time: {train_epoch_time}\")\n",
    "    wandb.log({\"train_acc\": acc, \"train_loss\": loss, \"train_epoch_time\": train_epoch_time})\n",
    "    \n",
    "    # torch.save(model.state_dict(), \"model.pth\")\n",
    "    # wandb.save(\"model.pth\")\n",
    "    \n",
    "    # Validation\n",
    "    avg_acc = 0.0\n",
    "    avg_loss = 0.0\n",
    "    with torch.no_grad():\n",
    "        for i, (X, labels) in enumerate(valid_loader):\n",
    "            X, labels = X.to(device), labels.to(device)\n",
    "            suppX, queryX, suppY, queryY = divide_into_query_and_support(X, labels, way, shot)\n",
    "            X = torch.cat([suppX, queryX], dim=1).squeeze(0)\n",
    "            suppY = suppY.squeeze(0)\n",
    "            queryY = queryY.squeeze(0)\n",
    "            \n",
    "            logits = model(X, suppY, way=way, shot=shot)\n",
    "            loss = criterion(logits, queryY)\n",
    "            \n",
    "            loss_value = loss.item()\n",
    "            acc = get_accuracy_from_logits(logits, queryY)\n",
    "            avg_acc += acc\n",
    "            avg_loss += loss_value\n",
    "    full_epoch_time = time.time() - epoch_start\n",
    "    avg_acc = avg_acc / (i + 1)\n",
    "    avg_loss = avg_loss / (i + 1)\n",
    "    print(f\"Validation - Loss: {avg_loss}, Acc: {avg_acc}, Time: {full_epoch_time}\")\n",
    "    wandb.log({\"valid_acc\": acc, \"valid_loss\": loss, \"full_epoch_time\": full_epoch_time})\n",
    "    best_val_acc = max(best_val_acc, avg_acc)\n",
    "    \n",
    "    # if avg_acc >= best_val_acc:\n",
    "    #     torch.save(model.state_dict(), \"best_model.pth\")\n",
    "    #     wandb.save(\"best_model.pth\")\n",
    "    "
   ]
  },
  {
   "cell_type": "code",
   "execution_count": null,
   "metadata": {},
   "outputs": [
    {
     "data": {
      "text/html": [
       "\n",
       "    <style>\n",
       "        .wandb-row {\n",
       "            display: flex;\n",
       "            flex-direction: row;\n",
       "            flex-wrap: wrap;\n",
       "            justify-content: flex-start;\n",
       "            width: 100%;\n",
       "        }\n",
       "        .wandb-col {\n",
       "            display: flex;\n",
       "            flex-direction: column;\n",
       "            flex-basis: 100%;\n",
       "            flex: 1;\n",
       "            padding: 10px;\n",
       "        }\n",
       "    </style>\n",
       "<div class=\"wandb-row\"><div class=\"wandb-col\"><h3>Run history:</h3><br/><table class=\"wandb\"><tr><td>acc</td><td>▁</td></tr><tr><td>loss</td><td>▁</td></tr></table><br/></div><div class=\"wandb-col\"><h3>Run summary:</h3><br/><table class=\"wandb\"><tr><td>acc</td><td>0</td></tr><tr><td>loss</td><td>1.41545</td></tr></table><br/></div></div>"
      ],
      "text/plain": [
       "<IPython.core.display.HTML object>"
      ]
     },
     "metadata": {},
     "output_type": "display_data"
    },
    {
     "data": {
      "text/html": [
       " View run <strong style=\"color:#cdcd00\">snowy-sky-6</strong> at: <a href='https://wandb.ai/mgr-few-shot/few-shot-learning/runs/42wektmj' target=\"_blank\">https://wandb.ai/mgr-few-shot/few-shot-learning/runs/42wektmj</a><br/> View project at: <a href='https://wandb.ai/mgr-few-shot/few-shot-learning' target=\"_blank\">https://wandb.ai/mgr-few-shot/few-shot-learning</a><br/>Synced 5 W&B file(s), 0 media file(s), 0 artifact file(s) and 0 other file(s)"
      ],
      "text/plain": [
       "<IPython.core.display.HTML object>"
      ]
     },
     "metadata": {},
     "output_type": "display_data"
    },
    {
     "data": {
      "text/html": [
       "Find logs at: <code>./wandb/run-20241205_220615-42wektmj/logs</code>"
      ],
      "text/plain": [
       "<IPython.core.display.HTML object>"
      ]
     },
     "metadata": {},
     "output_type": "display_data"
    }
   ],
   "source": [
    "wandb.finish()"
   ]
  },
  {
   "cell_type": "code",
   "execution_count": null,
   "metadata": {},
   "outputs": [],
   "source": []
  }
 ],
 "metadata": {
  "kernelspec": {
   "display_name": "few-shot",
   "language": "python",
   "name": "python3"
  },
  "language_info": {
   "codemirror_mode": {
    "name": "ipython",
    "version": 3
   },
   "file_extension": ".py",
   "mimetype": "text/x-python",
   "name": "python",
   "nbconvert_exporter": "python",
   "pygments_lexer": "ipython3",
   "version": "3.10.12"
  }
 },
 "nbformat": 4,
 "nbformat_minor": 2
}
