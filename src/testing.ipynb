{
 "cells": [
  {
   "cell_type": "code",
   "execution_count": 1,
   "metadata": {},
   "outputs": [
    {
     "name": "stderr",
     "output_type": "stream",
     "text": [
      "/home/lszarejko/.pyenv/versions/few-shot/lib/python3.10/site-packages/tqdm/auto.py:21: TqdmWarning: IProgress not found. Please update jupyter and ipywidgets. See https://ipywidgets.readthedocs.io/en/stable/user_install.html\n",
      "  from .autonotebook import tqdm as notebook_tqdm\n"
     ]
    }
   ],
   "source": [
    "from datasets.download_data import download_data\n",
    "from datasets.consts import Dataset, DatasetType\n",
    "from datasets.get_data_loader import get_data_loader\n",
    "from models.CAML import CAML\n",
    "from models.feature_extractor import get_pretrained_model, get_transform\n",
    "from utils import count_learnable_params, count_non_learnable_params\n",
    "from evaluate import eval_func\n",
    "from scheduler import WarmupCosineDecayScheduler\n",
    "from train import train_epoch\n",
    "import time\n",
    "import torch\n",
    "import tqdm\n",
    "import wandb"
   ]
  },
  {
   "cell_type": "code",
   "execution_count": 2,
   "metadata": {},
   "outputs": [
    {
     "data": {
      "text/plain": [
       "device(type='cuda', index=0)"
      ]
     },
     "execution_count": 2,
     "metadata": {},
     "output_type": "execute_result"
    }
   ],
   "source": [
    "device = torch.device(\"cuda:0\" if torch.cuda.is_available() else \"cpu\")\n",
    "device\n",
    "# device = \"cpu\" # Due to CUDA error"
   ]
  },
  {
   "cell_type": "code",
   "execution_count": 3,
   "metadata": {},
   "outputs": [],
   "source": [
    "# wandb.init(project=\"few-shot-learning\", config={\"architecture\": \"CAML\", \"dataset\": \"mini-imagenet\"})"
   ]
  },
  {
   "cell_type": "code",
   "execution_count": 3,
   "metadata": {},
   "outputs": [],
   "source": [
    "train_transform, test_transform = get_transform(\"timm/vit_small_patch16_224.dino\")\n",
    "train = download_data(Dataset.MINI_IMAGENET, DatasetType.TRAIN, transform=train_transform)\n",
    "valid = download_data(Dataset.MINI_IMAGENET, DatasetType.VAL, transform=test_transform)\n",
    "# test = download_data(Dataset.MINI_IMAGENET, DatasetType.TEST, transform=test_transform)"
   ]
  },
  {
   "cell_type": "code",
   "execution_count": 4,
   "metadata": {},
   "outputs": [],
   "source": [
    "way = 5\n",
    "shot = 3\n",
    "epochs = 5\n",
    "warmup_epochs = 2"
   ]
  },
  {
   "cell_type": "code",
   "execution_count": 5,
   "metadata": {},
   "outputs": [],
   "source": [
    "# fe = get_pretrained_model(\"timm/vit_small_patch16_224.dino\")\n",
    "fe = get_pretrained_model(\"timm/vit_base_patch16_clip_224.openai\")\n",
    "model = CAML(feature_extractor=fe, fe_dim=768, fe_dtype=torch.float32, train_fe=False, encoder_size='large', device=device).to(device)\n",
    "\n",
    "criterion = torch.nn.CrossEntropyLoss()\n",
    "optimizer = torch.optim.Adam(model.parameters(), lr=1e-5)\n",
    "\n",
    "eta_min = 1e-6\n",
    "scheduler = WarmupCosineDecayScheduler(optimizer, warmup_epochs, epochs, eta_min)"
   ]
  },
  {
   "cell_type": "code",
   "execution_count": 7,
   "metadata": {},
   "outputs": [
    {
     "data": {
      "text/plain": [
       "_IncompatibleKeys(missing_keys=['feature_extractor.cls_token', 'feature_extractor.pos_embed', 'feature_extractor.patch_embed.proj.weight', 'feature_extractor.norm_pre.weight', 'feature_extractor.norm_pre.bias', 'feature_extractor.blocks.0.norm1.weight', 'feature_extractor.blocks.0.norm1.bias', 'feature_extractor.blocks.0.attn.qkv.weight', 'feature_extractor.blocks.0.attn.qkv.bias', 'feature_extractor.blocks.0.attn.proj.weight', 'feature_extractor.blocks.0.attn.proj.bias', 'feature_extractor.blocks.0.norm2.weight', 'feature_extractor.blocks.0.norm2.bias', 'feature_extractor.blocks.0.mlp.fc1.weight', 'feature_extractor.blocks.0.mlp.fc1.bias', 'feature_extractor.blocks.0.mlp.fc2.weight', 'feature_extractor.blocks.0.mlp.fc2.bias', 'feature_extractor.blocks.1.norm1.weight', 'feature_extractor.blocks.1.norm1.bias', 'feature_extractor.blocks.1.attn.qkv.weight', 'feature_extractor.blocks.1.attn.qkv.bias', 'feature_extractor.blocks.1.attn.proj.weight', 'feature_extractor.blocks.1.attn.proj.bias', 'feature_extractor.blocks.1.norm2.weight', 'feature_extractor.blocks.1.norm2.bias', 'feature_extractor.blocks.1.mlp.fc1.weight', 'feature_extractor.blocks.1.mlp.fc1.bias', 'feature_extractor.blocks.1.mlp.fc2.weight', 'feature_extractor.blocks.1.mlp.fc2.bias', 'feature_extractor.blocks.2.norm1.weight', 'feature_extractor.blocks.2.norm1.bias', 'feature_extractor.blocks.2.attn.qkv.weight', 'feature_extractor.blocks.2.attn.qkv.bias', 'feature_extractor.blocks.2.attn.proj.weight', 'feature_extractor.blocks.2.attn.proj.bias', 'feature_extractor.blocks.2.norm2.weight', 'feature_extractor.blocks.2.norm2.bias', 'feature_extractor.blocks.2.mlp.fc1.weight', 'feature_extractor.blocks.2.mlp.fc1.bias', 'feature_extractor.blocks.2.mlp.fc2.weight', 'feature_extractor.blocks.2.mlp.fc2.bias', 'feature_extractor.blocks.3.norm1.weight', 'feature_extractor.blocks.3.norm1.bias', 'feature_extractor.blocks.3.attn.qkv.weight', 'feature_extractor.blocks.3.attn.qkv.bias', 'feature_extractor.blocks.3.attn.proj.weight', 'feature_extractor.blocks.3.attn.proj.bias', 'feature_extractor.blocks.3.norm2.weight', 'feature_extractor.blocks.3.norm2.bias', 'feature_extractor.blocks.3.mlp.fc1.weight', 'feature_extractor.blocks.3.mlp.fc1.bias', 'feature_extractor.blocks.3.mlp.fc2.weight', 'feature_extractor.blocks.3.mlp.fc2.bias', 'feature_extractor.blocks.4.norm1.weight', 'feature_extractor.blocks.4.norm1.bias', 'feature_extractor.blocks.4.attn.qkv.weight', 'feature_extractor.blocks.4.attn.qkv.bias', 'feature_extractor.blocks.4.attn.proj.weight', 'feature_extractor.blocks.4.attn.proj.bias', 'feature_extractor.blocks.4.norm2.weight', 'feature_extractor.blocks.4.norm2.bias', 'feature_extractor.blocks.4.mlp.fc1.weight', 'feature_extractor.blocks.4.mlp.fc1.bias', 'feature_extractor.blocks.4.mlp.fc2.weight', 'feature_extractor.blocks.4.mlp.fc2.bias', 'feature_extractor.blocks.5.norm1.weight', 'feature_extractor.blocks.5.norm1.bias', 'feature_extractor.blocks.5.attn.qkv.weight', 'feature_extractor.blocks.5.attn.qkv.bias', 'feature_extractor.blocks.5.attn.proj.weight', 'feature_extractor.blocks.5.attn.proj.bias', 'feature_extractor.blocks.5.norm2.weight', 'feature_extractor.blocks.5.norm2.bias', 'feature_extractor.blocks.5.mlp.fc1.weight', 'feature_extractor.blocks.5.mlp.fc1.bias', 'feature_extractor.blocks.5.mlp.fc2.weight', 'feature_extractor.blocks.5.mlp.fc2.bias', 'feature_extractor.blocks.6.norm1.weight', 'feature_extractor.blocks.6.norm1.bias', 'feature_extractor.blocks.6.attn.qkv.weight', 'feature_extractor.blocks.6.attn.qkv.bias', 'feature_extractor.blocks.6.attn.proj.weight', 'feature_extractor.blocks.6.attn.proj.bias', 'feature_extractor.blocks.6.norm2.weight', 'feature_extractor.blocks.6.norm2.bias', 'feature_extractor.blocks.6.mlp.fc1.weight', 'feature_extractor.blocks.6.mlp.fc1.bias', 'feature_extractor.blocks.6.mlp.fc2.weight', 'feature_extractor.blocks.6.mlp.fc2.bias', 'feature_extractor.blocks.7.norm1.weight', 'feature_extractor.blocks.7.norm1.bias', 'feature_extractor.blocks.7.attn.qkv.weight', 'feature_extractor.blocks.7.attn.qkv.bias', 'feature_extractor.blocks.7.attn.proj.weight', 'feature_extractor.blocks.7.attn.proj.bias', 'feature_extractor.blocks.7.norm2.weight', 'feature_extractor.blocks.7.norm2.bias', 'feature_extractor.blocks.7.mlp.fc1.weight', 'feature_extractor.blocks.7.mlp.fc1.bias', 'feature_extractor.blocks.7.mlp.fc2.weight', 'feature_extractor.blocks.7.mlp.fc2.bias', 'feature_extractor.blocks.8.norm1.weight', 'feature_extractor.blocks.8.norm1.bias', 'feature_extractor.blocks.8.attn.qkv.weight', 'feature_extractor.blocks.8.attn.qkv.bias', 'feature_extractor.blocks.8.attn.proj.weight', 'feature_extractor.blocks.8.attn.proj.bias', 'feature_extractor.blocks.8.norm2.weight', 'feature_extractor.blocks.8.norm2.bias', 'feature_extractor.blocks.8.mlp.fc1.weight', 'feature_extractor.blocks.8.mlp.fc1.bias', 'feature_extractor.blocks.8.mlp.fc2.weight', 'feature_extractor.blocks.8.mlp.fc2.bias', 'feature_extractor.blocks.9.norm1.weight', 'feature_extractor.blocks.9.norm1.bias', 'feature_extractor.blocks.9.attn.qkv.weight', 'feature_extractor.blocks.9.attn.qkv.bias', 'feature_extractor.blocks.9.attn.proj.weight', 'feature_extractor.blocks.9.attn.proj.bias', 'feature_extractor.blocks.9.norm2.weight', 'feature_extractor.blocks.9.norm2.bias', 'feature_extractor.blocks.9.mlp.fc1.weight', 'feature_extractor.blocks.9.mlp.fc1.bias', 'feature_extractor.blocks.9.mlp.fc2.weight', 'feature_extractor.blocks.9.mlp.fc2.bias', 'feature_extractor.blocks.10.norm1.weight', 'feature_extractor.blocks.10.norm1.bias', 'feature_extractor.blocks.10.attn.qkv.weight', 'feature_extractor.blocks.10.attn.qkv.bias', 'feature_extractor.blocks.10.attn.proj.weight', 'feature_extractor.blocks.10.attn.proj.bias', 'feature_extractor.blocks.10.norm2.weight', 'feature_extractor.blocks.10.norm2.bias', 'feature_extractor.blocks.10.mlp.fc1.weight', 'feature_extractor.blocks.10.mlp.fc1.bias', 'feature_extractor.blocks.10.mlp.fc2.weight', 'feature_extractor.blocks.10.mlp.fc2.bias', 'feature_extractor.blocks.11.norm1.weight', 'feature_extractor.blocks.11.norm1.bias', 'feature_extractor.blocks.11.attn.qkv.weight', 'feature_extractor.blocks.11.attn.qkv.bias', 'feature_extractor.blocks.11.attn.proj.weight', 'feature_extractor.blocks.11.attn.proj.bias', 'feature_extractor.blocks.11.norm2.weight', 'feature_extractor.blocks.11.norm2.bias', 'feature_extractor.blocks.11.mlp.fc1.weight', 'feature_extractor.blocks.11.mlp.fc1.bias', 'feature_extractor.blocks.11.mlp.fc2.weight', 'feature_extractor.blocks.11.mlp.fc2.bias', 'feature_extractor.norm.weight', 'feature_extractor.norm.bias', 'transformer_encoder.elmes_scale', 'transformer_encoder.label_elmes'], unexpected_keys=['transformer_encoder.etf_scale', 'transformer_encoder.label_etf'])"
      ]
     },
     "execution_count": 7,
     "metadata": {},
     "output_type": "execute_result"
    }
   ],
   "source": [
    "state_dict = torch.load(\"../caml_pretrained_models/CAML_CLIP/model.pth\", map_location=device)\n",
    "model.load_state_dict(state_dict, strict=False)"
   ]
  },
  {
   "cell_type": "code",
   "execution_count": 8,
   "metadata": {},
   "outputs": [
    {
     "name": "stdout",
     "output_type": "stream",
     "text": [
      "Learnable parameters: 302316801\n",
      "Non-learnable parameters: 85800704\n"
     ]
    }
   ],
   "source": [
    "learnable_params = count_learnable_params(model)\n",
    "non_learnable_params = count_non_learnable_params(model)\n",
    "print(f\"Learnable parameters: {learnable_params}\")\n",
    "print(f\"Non-learnable parameters: {non_learnable_params}\")"
   ]
  },
  {
   "cell_type": "code",
   "execution_count": 11,
   "metadata": {},
   "outputs": [],
   "source": [
    "train_loader = get_data_loader(train, way, shot, 15, True)\n",
    "valid_loader = get_data_loader(valid, way, shot, 15, False)\n",
    "# test_laoder = get_data_loader(test, way, shot, 15, False)"
   ]
  },
  {
   "cell_type": "code",
   "execution_count": 12,
   "metadata": {},
   "outputs": [
    {
     "name": "stderr",
     "output_type": "stream",
     "text": [
      " 20%|██        | 1/5 [02:07<08:30, 127.72s/it]"
     ]
    },
    {
     "name": "stdout",
     "output_type": "stream",
     "text": [
      "Validation - Loss: 0.113, Acc: 94.667, Time: 127.71152114868164\n"
     ]
    },
    {
     "name": "stderr",
     "output_type": "stream",
     "text": [
      " 40%|████      | 2/5 [04:17<06:26, 128.84s/it]"
     ]
    },
    {
     "name": "stdout",
     "output_type": "stream",
     "text": [
      "Validation - Loss: 0.113, Acc: 94.667, Time: 129.62123703956604\n"
     ]
    },
    {
     "name": "stderr",
     "output_type": "stream",
     "text": [
      " 60%|██████    | 3/5 [06:27<04:18, 129.33s/it]"
     ]
    },
    {
     "name": "stdout",
     "output_type": "stream",
     "text": [
      "Validation - Loss: 0.113, Acc: 94.667, Time: 129.902437210083\n"
     ]
    },
    {
     "name": "stderr",
     "output_type": "stream",
     "text": [
      " 80%|████████  | 4/5 [08:36<02:09, 129.33s/it]"
     ]
    },
    {
     "name": "stdout",
     "output_type": "stream",
     "text": [
      "Validation - Loss: 0.113, Acc: 94.667, Time: 129.32808804512024\n"
     ]
    },
    {
     "name": "stderr",
     "output_type": "stream",
     "text": [
      "100%|██████████| 5/5 [10:46<00:00, 129.33s/it]"
     ]
    },
    {
     "name": "stdout",
     "output_type": "stream",
     "text": [
      "Validation - Loss: 0.113, Acc: 94.667, Time: 130.04531955718994\n"
     ]
    },
    {
     "name": "stderr",
     "output_type": "stream",
     "text": [
      "\n"
     ]
    }
   ],
   "source": [
    "best_val_acc = 0\n",
    "for epoch in tqdm.tqdm(range(epochs)):\n",
    "    epoch_start = time.time()\n",
    "    # avg_loss, avg_acc = train_epoch(model, train_loader, optimizer, scheduler, criterion, device, way, shot)\n",
    "    train_epoch_time = time.time() - epoch_start\n",
    "    # print(f\"Epoch {epoch} - Loss: {avg_loss}, Acc: {avg_acc}, Time: {train_epoch_time}\")\n",
    "    # wandb.log({\"train_acc\": acc, \"train_loss\": loss, \"train_epoch_time\": train_epoch_time})\n",
    "    \n",
    "    # torch.save(model.state_dict(), \"model.pth\")\n",
    "    # wandb.save(\"model.pth\")\n",
    "    \n",
    "    avg_loss, avg_acc = eval_func(model, valid_loader, criterion, device, way, shot)\n",
    "    full_epoch_time = time.time() - epoch_start\n",
    "    print(f\"Validation - Loss: {avg_loss}, Acc: {avg_acc}, Time: {full_epoch_time}\")\n",
    "    # wandb.log({\"valid_acc\": acc, \"valid_loss\": loss, \"full_epoch_time\": full_epoch_time})\n",
    "    \n",
    "    best_val_acc = max(best_val_acc, avg_acc)\n",
    "    \n",
    "    # if avg_acc >= best_val_acc:\n",
    "    #     torch.save(model.state_dict(), \"best_model.pth\")\n",
    "    #     wandb.save(\"best_model.pth\")\n",
    "    "
   ]
  },
  {
   "cell_type": "code",
   "execution_count": 10,
   "metadata": {},
   "outputs": [],
   "source": [
    "# wandb.finish()"
   ]
  },
  {
   "cell_type": "code",
   "execution_count": null,
   "metadata": {},
   "outputs": [],
   "source": []
  }
 ],
 "metadata": {
  "kernelspec": {
   "display_name": "few-shot",
   "language": "python",
   "name": "python3"
  },
  "language_info": {
   "codemirror_mode": {
    "name": "ipython",
    "version": 3
   },
   "file_extension": ".py",
   "mimetype": "text/x-python",
   "name": "python",
   "nbconvert_exporter": "python",
   "pygments_lexer": "ipython3",
   "version": "3.10.12"
  }
 },
 "nbformat": 4,
 "nbformat_minor": 2
}
