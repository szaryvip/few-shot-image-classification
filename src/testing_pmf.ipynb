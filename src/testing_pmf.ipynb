{
 "cells": [
  {
   "cell_type": "code",
   "execution_count": 1,
   "metadata": {},
   "outputs": [
    {
     "name": "stderr",
     "output_type": "stream",
     "text": [
      "/home/lszarejko/.pyenv/versions/few-shot/lib/python3.10/site-packages/tqdm/auto.py:21: TqdmWarning: IProgress not found. Please update jupyter and ipywidgets. See https://ipywidgets.readthedocs.io/en/stable/user_install.html\n",
      "  from .autonotebook import tqdm as notebook_tqdm\n"
     ]
    }
   ],
   "source": [
    "import torch\n",
    "from datasets.download_data import download_data\n",
    "from datasets.consts import Dataset, DatasetType\n",
    "from models.feature_extractor import get_pretrained_model, get_transform\n",
    "import torchvision\n",
    "import torch\n",
    "from models.protonet import ProtoNet\n",
    "from timm.utils import accuracy\n",
    "import learn2learn as l2l\n",
    "import tqdm\n",
    "import wandb"
   ]
  },
  {
   "cell_type": "code",
   "execution_count": 2,
   "metadata": {},
   "outputs": [
    {
     "data": {
      "text/plain": [
       "device(type='cuda', index=0)"
      ]
     },
     "execution_count": 2,
     "metadata": {},
     "output_type": "execute_result"
    }
   ],
   "source": [
    "device = torch.device(\"cuda:0\" if torch.cuda.is_available() else \"cpu\")\n",
    "device\n",
    "# device = \"cpu\" # Due to CUDA error"
   ]
  },
  {
   "cell_type": "code",
   "execution_count": 3,
   "metadata": {},
   "outputs": [
    {
     "name": "stderr",
     "output_type": "stream",
     "text": [
      "\u001b[34m\u001b[1mwandb\u001b[0m: Using wandb-core as the SDK backend.  Please refer to https://wandb.me/wandb-core for more information.\n",
      "\u001b[34m\u001b[1mwandb\u001b[0m: Currently logged in as: \u001b[33mszaryvip\u001b[0m (\u001b[33mmgr-few-shot\u001b[0m). Use \u001b[1m`wandb login --relogin`\u001b[0m to force relogin\n"
     ]
    },
    {
     "data": {
      "text/html": [
       "Tracking run with wandb version 0.19.0"
      ],
      "text/plain": [
       "<IPython.core.display.HTML object>"
      ]
     },
     "metadata": {},
     "output_type": "display_data"
    },
    {
     "data": {
      "text/html": [
       "Run data is saved locally in <code>/home/lszarejko/MGR/few-shot-image-classification/src/wandb/run-20241206_141104-95pima2z</code>"
      ],
      "text/plain": [
       "<IPython.core.display.HTML object>"
      ]
     },
     "metadata": {},
     "output_type": "display_data"
    },
    {
     "data": {
      "text/html": [
       "Syncing run <strong><a href='https://wandb.ai/mgr-few-shot/few-shot-learning/runs/95pima2z' target=\"_blank\">hopeful-lake-28</a></strong> to <a href='https://wandb.ai/mgr-few-shot/few-shot-learning' target=\"_blank\">Weights & Biases</a> (<a href='https://wandb.me/developer-guide' target=\"_blank\">docs</a>)<br/>"
      ],
      "text/plain": [
       "<IPython.core.display.HTML object>"
      ]
     },
     "metadata": {},
     "output_type": "display_data"
    },
    {
     "data": {
      "text/html": [
       " View project at <a href='https://wandb.ai/mgr-few-shot/few-shot-learning' target=\"_blank\">https://wandb.ai/mgr-few-shot/few-shot-learning</a>"
      ],
      "text/plain": [
       "<IPython.core.display.HTML object>"
      ]
     },
     "metadata": {},
     "output_type": "display_data"
    },
    {
     "data": {
      "text/html": [
       " View run at <a href='https://wandb.ai/mgr-few-shot/few-shot-learning/runs/95pima2z' target=\"_blank\">https://wandb.ai/mgr-few-shot/few-shot-learning/runs/95pima2z</a>"
      ],
      "text/plain": [
       "<IPython.core.display.HTML object>"
      ]
     },
     "metadata": {},
     "output_type": "display_data"
    },
    {
     "data": {
      "text/html": [
       "<button onClick=\"this.nextSibling.style.display='block';this.style.display='none';\">Display W&B run</button><iframe src='https://wandb.ai/mgr-few-shot/few-shot-learning/runs/95pima2z?jupyter=true' style='border:none;width:100%;height:420px;display:none;'></iframe>"
      ],
      "text/plain": [
       "<wandb.sdk.wandb_run.Run at 0x7f67408b67a0>"
      ]
     },
     "execution_count": 3,
     "metadata": {},
     "output_type": "execute_result"
    }
   ],
   "source": [
    "wandb.init(project=\"few-shot-learning\", config={\"architecture\": \"PMF\", \"dataset\": \"mini-imagenet\"})"
   ]
  },
  {
   "cell_type": "code",
   "execution_count": 4,
   "metadata": {},
   "outputs": [],
   "source": [
    "train_transform, test_transform = get_transform(\"timm/vit_base_patch16_clip_224.laion2b_ft_in12k_in1k\")\n",
    "train_transform = torchvision.transforms.Compose(train_transform.transforms[:-2])\n",
    "test_transform = torchvision.transforms.Compose(test_transform.transforms[:-2])\n",
    "train = download_data(Dataset.MINI_IMAGENET, DatasetType.TRAIN, transform=train_transform)\n",
    "# valid = download_data(Dataset.MINI_IMAGENET, DatasetType.VAL, transform=test_transform)\n",
    "# test = download_data(Dataset.MINI_IMAGENET, DatasetType.TEST, transform=test_transform)"
   ]
  },
  {
   "cell_type": "code",
   "execution_count": 5,
   "metadata": {},
   "outputs": [],
   "source": [
    "fe = get_pretrained_model(\"timm/vit_base_patch16_clip_224.laion2b_ft_in12k_in1k\")\n",
    "model = ProtoNet(backbone=fe).to(device)\n",
    "\n",
    "criterion = torch.nn.CrossEntropyLoss()\n",
    "optimizer = torch.optim.Adam(model.parameters(), lr=0.001)"
   ]
  },
  {
   "cell_type": "code",
   "execution_count": 17,
   "metadata": {},
   "outputs": [],
   "source": [
    "way = 5\n",
    "shot = 1"
   ]
  },
  {
   "cell_type": "code",
   "execution_count": null,
   "metadata": {},
   "outputs": [],
   "source": [
    "train_dataset = l2l.data.MetaDataset(train)\n",
    "transforms = [\n",
    "    l2l.data.transforms.FusedNWaysKShots(train_dataset, n=way, k=shot+1),\n",
    "    l2l.data.transforms.LoadData(train_dataset),\n",
    "    l2l.data.transforms.RemapLabels(train_dataset),\n",
    "]\n",
    "\n",
    "train_tasksets = l2l.data.TaskDataset(train_dataset, task_transforms=transforms, num_tasks=10)\n",
    "train_loader = torch.utils.data.DataLoader(train_tasksets)"
   ]
  },
  {
   "cell_type": "code",
   "execution_count": 14,
   "metadata": {},
   "outputs": [
    {
     "name": "stdout",
     "output_type": "stream",
     "text": [
      "support:  tensor([2, 0, 4, 3, 1]) query:  tensor([2, 0, 4, 3, 1])\n",
      "support:  tensor([4, 2, 0, 3, 1]) query:  tensor([4, 2, 0, 3, 1])\n",
      "support:  tensor([3, 1, 0, 4, 2]) query:  tensor([3, 1, 0, 4, 2])\n",
      "support:  tensor([0, 1, 4, 2, 3]) query:  tensor([0, 1, 4, 2, 3])\n",
      "support:  tensor([4, 1, 3, 2, 0]) query:  tensor([4, 1, 3, 2, 0])\n",
      "support:  tensor([3, 4, 2, 0, 1]) query:  tensor([3, 4, 2, 0, 1])\n",
      "support:  tensor([0, 3, 4, 2, 1]) query:  tensor([0, 3, 4, 2, 1])\n",
      "support:  tensor([4, 3, 1, 2, 0]) query:  tensor([4, 3, 1, 2, 0])\n",
      "support:  tensor([2, 4, 3, 1, 0]) query:  tensor([2, 4, 3, 1, 0])\n",
      "support:  tensor([4, 3, 0, 1, 2]) query:  tensor([4, 3, 0, 1, 2])\n"
     ]
    }
   ],
   "source": [
    "for task in train_tasksets:\n",
    "    X, y = task\n",
    "    print(\"support: \", y[::2], \"query: \", y[1::2])"
   ]
  },
  {
   "cell_type": "code",
   "execution_count": 7,
   "metadata": {},
   "outputs": [],
   "source": [
    "# valid_dataset = l2l.data.MetaDataset(valid)\n",
    "# transforms = [\n",
    "#     l2l.data.transforms.FusedNWaysKShots(valid_dataset, n=5, k=1),\n",
    "#     l2l.data.transforms.LoadData(valid_dataset),\n",
    "#     l2l.data.transforms.RemapLabels(valid_dataset),\n",
    "# ]\n",
    "# valid_tasksets = l2l.data.Taskset(valid_dataset, task_transforms=transforms, num_tasks=100)\n",
    "# valid_loader = torch.utils.data.DataLoader(valid_tasksets, shuffle=True)"
   ]
  },
  {
   "cell_type": "code",
   "execution_count": 8,
   "metadata": {},
   "outputs": [],
   "source": [
    "# test_dataset = l2l.data.MetaDataset(test)\n",
    "# transforms = [\n",
    "#     l2l.data.transforms.FusedNWaysKShots(test_dataset, n=5, k=1),\n",
    "#     l2l.data.transforms.LoadData(test_dataset),\n",
    "#     l2l.data.transforms.RemapLabels(test_dataset),\n",
    "# ]\n",
    "# test_tasksets = l2l.data.Taskset(test_dataset, task_transforms=transforms, num_tasks=100)\n",
    "# test_loader = torch.utils.data.DataLoader(test_tasksets, shuffle=True)"
   ]
  },
  {
   "cell_type": "code",
   "execution_count": 18,
   "metadata": {},
   "outputs": [
    {
     "name": "stderr",
     "output_type": "stream",
     "text": [
      "  0%|          | 0/5 [00:00<?, ?it/s]"
     ]
    },
    {
     "name": "stdout",
     "output_type": "stream",
     "text": [
      "Support labels tensor([1], device='cuda:0'), Query labels tensor([1], device='cuda:0')\n",
      "Support set shape: torch.Size([1, 1, 3, 224, 224]), Query set shape: torch.Size([1, 3, 224, 224])\n",
      "Support labels shape: torch.Size([1, 1]), Query labels shape: torch.Size([1])\n"
     ]
    },
    {
     "name": "stderr",
     "output_type": "stream",
     "text": [
      "  0%|          | 0/5 [00:00<?, ?it/s]\n"
     ]
    },
    {
     "ename": "RuntimeError",
     "evalue": "Expected size for first two dimensions of batch2 tensor to be: [1, 256] but got: [1, 768].",
     "output_type": "error",
     "traceback": [
      "\u001b[0;31m---------------------------------------------------------------------------\u001b[0m",
      "\u001b[0;31mRuntimeError\u001b[0m                              Traceback (most recent call last)",
      "Cell \u001b[0;32mIn[18], line 20\u001b[0m\n\u001b[1;32m     18\u001b[0m \u001b[38;5;28mprint\u001b[39m(\u001b[38;5;124mf\u001b[39m\u001b[38;5;124m\"\u001b[39m\u001b[38;5;124mSupport set shape: \u001b[39m\u001b[38;5;132;01m{\u001b[39;00msuppX\u001b[38;5;241m.\u001b[39mshape\u001b[38;5;132;01m}\u001b[39;00m\u001b[38;5;124m, Query set shape: \u001b[39m\u001b[38;5;132;01m{\u001b[39;00mqueryX\u001b[38;5;241m.\u001b[39mshape\u001b[38;5;132;01m}\u001b[39;00m\u001b[38;5;124m\"\u001b[39m)\n\u001b[1;32m     19\u001b[0m \u001b[38;5;28mprint\u001b[39m(\u001b[38;5;124mf\u001b[39m\u001b[38;5;124m\"\u001b[39m\u001b[38;5;124mSupport labels shape: \u001b[39m\u001b[38;5;132;01m{\u001b[39;00msuppY\u001b[38;5;241m.\u001b[39mshape\u001b[38;5;132;01m}\u001b[39;00m\u001b[38;5;124m, Query labels shape: \u001b[39m\u001b[38;5;132;01m{\u001b[39;00mqueryY\u001b[38;5;241m.\u001b[39mshape\u001b[38;5;132;01m}\u001b[39;00m\u001b[38;5;124m\"\u001b[39m)\n\u001b[0;32m---> 20\u001b[0m logits \u001b[38;5;241m=\u001b[39m \u001b[43mmodel\u001b[49m\u001b[43m(\u001b[49m\u001b[43msuppX\u001b[49m\u001b[43m,\u001b[49m\u001b[43m \u001b[49m\u001b[43msuppY\u001b[49m\u001b[43m,\u001b[49m\u001b[43m \u001b[49m\u001b[43mqueryX\u001b[49m\u001b[43m)\u001b[49m\n\u001b[1;32m     21\u001b[0m logits \u001b[38;5;241m=\u001b[39m logits\u001b[38;5;241m.\u001b[39mview(queryX\u001b[38;5;241m.\u001b[39mshape[\u001b[38;5;241m0\u001b[39m] \u001b[38;5;241m*\u001b[39m queryX\u001b[38;5;241m.\u001b[39mshape[\u001b[38;5;241m1\u001b[39m], \u001b[38;5;241m-\u001b[39m\u001b[38;5;241m1\u001b[39m)\n\u001b[1;32m     22\u001b[0m loss \u001b[38;5;241m=\u001b[39m criterion(logits, queryY\u001b[38;5;241m.\u001b[39mview(\u001b[38;5;241m-\u001b[39m\u001b[38;5;241m1\u001b[39m))\n",
      "File \u001b[0;32m~/.pyenv/versions/few-shot/lib/python3.10/site-packages/torch/nn/modules/module.py:1532\u001b[0m, in \u001b[0;36mModule._wrapped_call_impl\u001b[0;34m(self, *args, **kwargs)\u001b[0m\n\u001b[1;32m   1530\u001b[0m     \u001b[38;5;28;01mreturn\u001b[39;00m \u001b[38;5;28mself\u001b[39m\u001b[38;5;241m.\u001b[39m_compiled_call_impl(\u001b[38;5;241m*\u001b[39margs, \u001b[38;5;241m*\u001b[39m\u001b[38;5;241m*\u001b[39mkwargs)  \u001b[38;5;66;03m# type: ignore[misc]\u001b[39;00m\n\u001b[1;32m   1531\u001b[0m \u001b[38;5;28;01melse\u001b[39;00m:\n\u001b[0;32m-> 1532\u001b[0m     \u001b[38;5;28;01mreturn\u001b[39;00m \u001b[38;5;28;43mself\u001b[39;49m\u001b[38;5;241;43m.\u001b[39;49m\u001b[43m_call_impl\u001b[49m\u001b[43m(\u001b[49m\u001b[38;5;241;43m*\u001b[39;49m\u001b[43margs\u001b[49m\u001b[43m,\u001b[49m\u001b[43m \u001b[49m\u001b[38;5;241;43m*\u001b[39;49m\u001b[38;5;241;43m*\u001b[39;49m\u001b[43mkwargs\u001b[49m\u001b[43m)\u001b[49m\n",
      "File \u001b[0;32m~/.pyenv/versions/few-shot/lib/python3.10/site-packages/torch/nn/modules/module.py:1541\u001b[0m, in \u001b[0;36mModule._call_impl\u001b[0;34m(self, *args, **kwargs)\u001b[0m\n\u001b[1;32m   1536\u001b[0m \u001b[38;5;66;03m# If we don't have any hooks, we want to skip the rest of the logic in\u001b[39;00m\n\u001b[1;32m   1537\u001b[0m \u001b[38;5;66;03m# this function, and just call forward.\u001b[39;00m\n\u001b[1;32m   1538\u001b[0m \u001b[38;5;28;01mif\u001b[39;00m \u001b[38;5;129;01mnot\u001b[39;00m (\u001b[38;5;28mself\u001b[39m\u001b[38;5;241m.\u001b[39m_backward_hooks \u001b[38;5;129;01mor\u001b[39;00m \u001b[38;5;28mself\u001b[39m\u001b[38;5;241m.\u001b[39m_backward_pre_hooks \u001b[38;5;129;01mor\u001b[39;00m \u001b[38;5;28mself\u001b[39m\u001b[38;5;241m.\u001b[39m_forward_hooks \u001b[38;5;129;01mor\u001b[39;00m \u001b[38;5;28mself\u001b[39m\u001b[38;5;241m.\u001b[39m_forward_pre_hooks\n\u001b[1;32m   1539\u001b[0m         \u001b[38;5;129;01mor\u001b[39;00m _global_backward_pre_hooks \u001b[38;5;129;01mor\u001b[39;00m _global_backward_hooks\n\u001b[1;32m   1540\u001b[0m         \u001b[38;5;129;01mor\u001b[39;00m _global_forward_hooks \u001b[38;5;129;01mor\u001b[39;00m _global_forward_pre_hooks):\n\u001b[0;32m-> 1541\u001b[0m     \u001b[38;5;28;01mreturn\u001b[39;00m \u001b[43mforward_call\u001b[49m\u001b[43m(\u001b[49m\u001b[38;5;241;43m*\u001b[39;49m\u001b[43margs\u001b[49m\u001b[43m,\u001b[49m\u001b[43m \u001b[49m\u001b[38;5;241;43m*\u001b[39;49m\u001b[38;5;241;43m*\u001b[39;49m\u001b[43mkwargs\u001b[49m\u001b[43m)\u001b[49m\n\u001b[1;32m   1543\u001b[0m \u001b[38;5;28;01mtry\u001b[39;00m:\n\u001b[1;32m   1544\u001b[0m     result \u001b[38;5;241m=\u001b[39m \u001b[38;5;28;01mNone\u001b[39;00m\n",
      "File \u001b[0;32m~/MGR/few-shot-image-classification/src/models/protonet.py:55\u001b[0m, in \u001b[0;36mProtoNet.forward\u001b[0;34m(self, supp_x, supp_y, x)\u001b[0m\n\u001b[1;32m     52\u001b[0m feat \u001b[38;5;241m=\u001b[39m \u001b[38;5;28mself\u001b[39m\u001b[38;5;241m.\u001b[39mbackbone\u001b[38;5;241m.\u001b[39mforward(x\u001b[38;5;241m.\u001b[39mview(\u001b[38;5;241m-\u001b[39m\u001b[38;5;241m1\u001b[39m, C, H, W))\n\u001b[1;32m     53\u001b[0m feat \u001b[38;5;241m=\u001b[39m feat\u001b[38;5;241m.\u001b[39mview(B, x\u001b[38;5;241m.\u001b[39mshape[\u001b[38;5;241m1\u001b[39m], \u001b[38;5;241m-\u001b[39m\u001b[38;5;241m1\u001b[39m)\n\u001b[0;32m---> 55\u001b[0m logits \u001b[38;5;241m=\u001b[39m \u001b[38;5;28;43mself\u001b[39;49m\u001b[38;5;241;43m.\u001b[39;49m\u001b[43mcos_classifier\u001b[49m\u001b[43m(\u001b[49m\u001b[43mprototypes\u001b[49m\u001b[43m,\u001b[49m\u001b[43m \u001b[49m\u001b[43mfeat\u001b[49m\u001b[43m)\u001b[49m\n\u001b[1;32m     56\u001b[0m \u001b[38;5;28;01mreturn\u001b[39;00m logits\n",
      "File \u001b[0;32m~/MGR/few-shot-image-classification/src/models/protonet.py:31\u001b[0m, in \u001b[0;36mProtoNet.cos_classifier\u001b[0;34m(self, w, f)\u001b[0m\n\u001b[1;32m     28\u001b[0m f \u001b[38;5;241m=\u001b[39m F\u001b[38;5;241m.\u001b[39mnormalize(f, p\u001b[38;5;241m=\u001b[39m\u001b[38;5;241m2\u001b[39m, dim\u001b[38;5;241m=\u001b[39mf\u001b[38;5;241m.\u001b[39mdim() \u001b[38;5;241m-\u001b[39m \u001b[38;5;241m1\u001b[39m, eps\u001b[38;5;241m=\u001b[39m\u001b[38;5;241m1e-12\u001b[39m)\n\u001b[1;32m     29\u001b[0m w \u001b[38;5;241m=\u001b[39m F\u001b[38;5;241m.\u001b[39mnormalize(w, p\u001b[38;5;241m=\u001b[39m\u001b[38;5;241m2\u001b[39m, dim\u001b[38;5;241m=\u001b[39mw\u001b[38;5;241m.\u001b[39mdim() \u001b[38;5;241m-\u001b[39m \u001b[38;5;241m1\u001b[39m, eps\u001b[38;5;241m=\u001b[39m\u001b[38;5;241m1e-12\u001b[39m)\n\u001b[0;32m---> 31\u001b[0m cls_scores \u001b[38;5;241m=\u001b[39m \u001b[43mf\u001b[49m\u001b[43m \u001b[49m\u001b[38;5;241;43m@\u001b[39;49m\u001b[43m \u001b[49m\u001b[43mw\u001b[49m\u001b[38;5;241;43m.\u001b[39;49m\u001b[43mtranspose\u001b[49m\u001b[43m(\u001b[49m\u001b[38;5;241;43m1\u001b[39;49m\u001b[43m,\u001b[49m\u001b[43m \u001b[49m\u001b[38;5;241;43m2\u001b[39;49m\u001b[43m)\u001b[49m\n\u001b[1;32m     32\u001b[0m cls_scores \u001b[38;5;241m=\u001b[39m \u001b[38;5;28mself\u001b[39m\u001b[38;5;241m.\u001b[39mscale_cls \u001b[38;5;241m*\u001b[39m (cls_scores \u001b[38;5;241m+\u001b[39m \u001b[38;5;28mself\u001b[39m\u001b[38;5;241m.\u001b[39mbias)\n\u001b[1;32m     33\u001b[0m \u001b[38;5;28;01mreturn\u001b[39;00m cls_scores\n",
      "\u001b[0;31mRuntimeError\u001b[0m: Expected size for first two dimensions of batch2 tensor to be: [1, 256] but got: [1, 768]."
     ]
    }
   ],
   "source": [
    "model.train()\n",
    "epochs = 5\n",
    "best_val_acc = 0\n",
    "for epoch in tqdm.tqdm(range(epochs)):\n",
    "    avg_loss = 0.0\n",
    "    avg_acc = 0.0\n",
    "    for i, batch in enumerate(train_loader):\n",
    "        optimizer.zero_grad()\n",
    "        X, labels = batch\n",
    "        X, labels = X.to(device), labels.to(device)\n",
    "        suppX, queryX, suppY, queryY = [], [], [], []\n",
    "        for i in range(0, labels.shape[1], shot+1):\n",
    "            suppX = X[:, i:i+shot]\n",
    "            queryX = X[:, i+shot]\n",
    "            suppY = labels[:, i:i+shot]\n",
    "            queryY = labels[:, i+shot]\n",
    "        print(f\"Support labels {suppY.view(-1)}, Query labels {queryY.view(-1)}\")\n",
    "        print(f\"Support set shape: {suppX.shape}, Query set shape: {queryX.shape}\")\n",
    "        print(f\"Support labels shape: {suppY.shape}, Query labels shape: {queryY.shape}\")\n",
    "        logits = model(suppX, suppY, queryX)\n",
    "        logits = logits.view(queryX.shape[0] * queryX.shape[1], -1)\n",
    "        loss = criterion(logits, queryY.view(-1))\n",
    "        loss.backward()\n",
    "        optimizer.step()\n",
    "        loss_value = loss.item()\n",
    "        \n",
    "        \n",
    "        _, max_index = torch.max(logits, 1)\n",
    "        print(\"max index: \", max_index, \"target: \", queryY, \"logits: \", logits)\n",
    "        acc = 100 * torch.sum(torch.eq(max_index, queryY.view(-1))).item() / queryY.view(-1).shape[0]\n",
    "        print(acc)\n",
    "        avg_acc += acc\n",
    "        avg_loss += loss_value\n",
    "    avg_acc = avg_acc / (i + 1)\n",
    "    avg_loss = avg_loss / (i + 1)\n",
    "    print(f\"Epoch {epoch} - Loss: {avg_loss}, Acc: {avg_acc}\")\n",
    "    wandb.log({\"train_acc\": acc, \"train_loss\": loss})\n",
    "    \n",
    "    torch.save(model.state_dict(), \"model.pth\")\n",
    "    wandb.save(\"model.pth\")\n",
    "    \n",
    "    # Validation\n",
    "    # avg_acc = 0.0\n",
    "    # avg_loss = 0.0\n",
    "    # with torch.no_grad():\n",
    "    #     for i, batch in enumerate(valid_loader):\n",
    "    #         X, labels = batch\n",
    "    #         shot=1\n",
    "    #         batch_size, way, channels, height, width = X.shape\n",
    "    #         X = X.view(batch_size * way, channels, height, width)\n",
    "    #         labels = labels.view(-1)\n",
    "    #         X, labels = X.to(device), labels.to(device)\n",
    "    #         logits = model(X, labels[:(way-1)*shot], way=(way-1), shot=shot)\n",
    "    #         loss = criterion(logits, labels[(way-1)*shot:])\n",
    "    #         loss_value = loss.item()\n",
    "    #         _, max_index = torch.max(logits, 1)\n",
    "            \n",
    "    #         acc = 100 * torch.sum(torch.eq(max_index, labels[(way-1)*shot:])).item() / labels[(way-1)*shot:].shape[0]\n",
    "    #         avg_acc += acc\n",
    "    #         avg_loss += loss_value\n",
    "    # avg_acc = avg_acc / (i + 1)\n",
    "    # avg_loss = avg_loss / (i + 1)\n",
    "    # print(f\"Validation - Loss: {avg_loss}, Acc: {avg_acc}\")\n",
    "    # wandb.log({\"valid_acc\": acc, \"valid_loss\": loss})\n",
    "    # best_val_acc = max(best_val_acc, avg_acc)\n",
    "    \n",
    "    # if avg_acc == best_val_acc:\n",
    "    #     torch.save(model.state_dict(), \"best_model.pth\")\n",
    "    #     wandb.save(\"best_model.pth\")\n",
    "    "
   ]
  },
  {
   "cell_type": "code",
   "execution_count": 11,
   "metadata": {},
   "outputs": [],
   "source": [
    "wandb.finish(exit_code=0)"
   ]
  },
  {
   "cell_type": "code",
   "execution_count": null,
   "metadata": {},
   "outputs": [],
   "source": []
  }
 ],
 "metadata": {
  "kernelspec": {
   "display_name": "few-shot",
   "language": "python",
   "name": "python3"
  },
  "language_info": {
   "codemirror_mode": {
    "name": "ipython",
    "version": 3
   },
   "file_extension": ".py",
   "mimetype": "text/x-python",
   "name": "python",
   "nbconvert_exporter": "python",
   "pygments_lexer": "ipython3",
   "version": "3.10.12"
  }
 },
 "nbformat": 4,
 "nbformat_minor": 2
}
