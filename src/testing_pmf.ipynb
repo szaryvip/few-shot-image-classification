{
 "cells": [
  {
   "cell_type": "code",
   "execution_count": 1,
   "metadata": {},
   "outputs": [
    {
     "ename": "ImportError",
     "evalue": "cannot import name 'ProtoNet' from partially initialized module 'models.protonet' (most likely due to a circular import) (/home/lszarejko/MGR/few-shot-image-classification/src/models/protonet.py)",
     "output_type": "error",
     "traceback": [
      "\u001b[0;31m---------------------------------------------------------------------------\u001b[0m",
      "\u001b[0;31mImportError\u001b[0m                               Traceback (most recent call last)",
      "Cell \u001b[0;32mIn[1], line 3\u001b[0m\n\u001b[1;32m      1\u001b[0m \u001b[38;5;28;01mfrom\u001b[39;00m \u001b[38;5;21;01mdatasets\u001b[39;00m\u001b[38;5;21;01m.\u001b[39;00m\u001b[38;5;21;01mdownload_data\u001b[39;00m \u001b[38;5;28;01mimport\u001b[39;00m download_data\n\u001b[1;32m      2\u001b[0m \u001b[38;5;28;01mfrom\u001b[39;00m \u001b[38;5;21;01mdatasets\u001b[39;00m\u001b[38;5;21;01m.\u001b[39;00m\u001b[38;5;21;01mconsts\u001b[39;00m \u001b[38;5;28;01mimport\u001b[39;00m Dataset, DatasetType\n\u001b[0;32m----> 3\u001b[0m \u001b[38;5;28;01mfrom\u001b[39;00m \u001b[38;5;21;01mmodels\u001b[39;00m\u001b[38;5;21;01m.\u001b[39;00m\u001b[38;5;21;01mprotonet\u001b[39;00m \u001b[38;5;28;01mimport\u001b[39;00m ProtoNet\n\u001b[1;32m      4\u001b[0m \u001b[38;5;28;01mfrom\u001b[39;00m \u001b[38;5;21;01mmodels\u001b[39;00m\u001b[38;5;21;01m.\u001b[39;00m\u001b[38;5;21;01mfeature_extractor\u001b[39;00m \u001b[38;5;28;01mimport\u001b[39;00m get_pretrained_model, get_transform\n\u001b[1;32m      5\u001b[0m \u001b[38;5;28;01mfrom\u001b[39;00m \u001b[38;5;21;01mutils\u001b[39;00m \u001b[38;5;28;01mimport\u001b[39;00m divide_into_query_and_support, get_accuracy_from_logits, count_learnable_params, count_non_learnable_params\n",
      "File \u001b[0;32m~/MGR/few-shot-image-classification/src/models/protonet.py:11\u001b[0m\n\u001b[1;32m      8\u001b[0m \u001b[38;5;28;01mimport\u001b[39;00m \u001b[38;5;21;01mtorch\u001b[39;00m\u001b[38;5;21;01m.\u001b[39;00m\u001b[38;5;21;01mnn\u001b[39;00m \u001b[38;5;28;01mas\u001b[39;00m \u001b[38;5;21;01mnn\u001b[39;00m\n\u001b[1;32m      9\u001b[0m \u001b[38;5;28;01mimport\u001b[39;00m \u001b[38;5;21;01mtorch\u001b[39;00m\u001b[38;5;21;01m.\u001b[39;00m\u001b[38;5;21;01mnn\u001b[39;00m\u001b[38;5;21;01m.\u001b[39;00m\u001b[38;5;21;01mfunctional\u001b[39;00m \u001b[38;5;28;01mas\u001b[39;00m \u001b[38;5;21;01mF\u001b[39;00m\n\u001b[0;32m---> 11\u001b[0m \u001b[38;5;28;01mfrom\u001b[39;00m \u001b[38;5;21;01mmodels\u001b[39;00m\u001b[38;5;21;01m.\u001b[39;00m\u001b[38;5;21;01mutils\u001b[39;00m \u001b[38;5;28;01mimport\u001b[39;00m DiffAugment\n\u001b[1;32m     14\u001b[0m \u001b[38;5;28;01mclass\u001b[39;00m \u001b[38;5;21;01mProtoNet\u001b[39;00m(nn\u001b[38;5;241m.\u001b[39mModule):\n\u001b[1;32m     15\u001b[0m     \u001b[38;5;28;01mdef\u001b[39;00m \u001b[38;5;21m__init__\u001b[39m(\u001b[38;5;28mself\u001b[39m, backbone):\n",
      "File \u001b[0;32m~/MGR/few-shot-image-classification/src/models/utils.py:8\u001b[0m\n\u001b[1;32m      6\u001b[0m \u001b[38;5;28;01mfrom\u001b[39;00m \u001b[38;5;21;01mmodels\u001b[39;00m\u001b[38;5;21;01m.\u001b[39;00m\u001b[38;5;21;01mCAML\u001b[39;00m \u001b[38;5;28;01mimport\u001b[39;00m CAML\n\u001b[1;32m      7\u001b[0m \u001b[38;5;28;01mfrom\u001b[39;00m \u001b[38;5;21;01mmodels\u001b[39;00m\u001b[38;5;21;01m.\u001b[39;00m\u001b[38;5;21;01mconsts\u001b[39;00m \u001b[38;5;28;01mimport\u001b[39;00m ModelType\n\u001b[0;32m----> 8\u001b[0m \u001b[38;5;28;01mfrom\u001b[39;00m \u001b[38;5;21;01mmodels\u001b[39;00m\u001b[38;5;21;01m.\u001b[39;00m\u001b[38;5;21;01mprotonet\u001b[39;00m \u001b[38;5;28;01mimport\u001b[39;00m ProtoNet, ProtoNet_Finetune\n\u001b[1;32m     11\u001b[0m \u001b[38;5;28;01mdef\u001b[39;00m \u001b[38;5;21mget_model\u001b[39m(\u001b[38;5;28mtype\u001b[39m: ModelType, fe_extractor, fe_dim\u001b[38;5;241m=\u001b[39m\u001b[38;5;241m768\u001b[39m, fe_dtype\u001b[38;5;241m=\u001b[39mtorch\u001b[38;5;241m.\u001b[39mfloat32,\n\u001b[1;32m     12\u001b[0m               train_fe\u001b[38;5;241m=\u001b[39m\u001b[38;5;28;01mFalse\u001b[39;00m, encoder_size\u001b[38;5;241m=\u001b[39m\u001b[38;5;124m\"\u001b[39m\u001b[38;5;124mtiny\u001b[39m\u001b[38;5;124m\"\u001b[39m, device\u001b[38;5;241m=\u001b[39m\u001b[38;5;124m\"\u001b[39m\u001b[38;5;124mcpu\u001b[39m\u001b[38;5;124m\"\u001b[39m, label_elmes\u001b[38;5;241m=\u001b[39m\u001b[38;5;28;01mTrue\u001b[39;00m, \u001b[38;5;241m*\u001b[39m\u001b[38;5;241m*\u001b[39mkwargs):\n\u001b[1;32m     13\u001b[0m     \u001b[38;5;28;01mif\u001b[39;00m \u001b[38;5;28mtype\u001b[39m \u001b[38;5;241m==\u001b[39m ModelType\u001b[38;5;241m.\u001b[39mCAML:\n",
      "\u001b[0;31mImportError\u001b[0m: cannot import name 'ProtoNet' from partially initialized module 'models.protonet' (most likely due to a circular import) (/home/lszarejko/MGR/few-shot-image-classification/src/models/protonet.py)"
     ]
    }
   ],
   "source": [
    "from datasets.download_data import download_data\n",
    "from datasets.consts import Dataset, DatasetType\n",
    "from models.protonet import ProtoNet\n",
    "from models.feature_extractor import get_pretrained_model, get_transform\n",
    "from utils import divide_into_query_and_support, get_accuracy_from_logits, count_learnable_params, count_non_learnable_params\n",
    "import learn2learn as l2l\n",
    "import time\n",
    "import torch\n",
    "import torchvision\n",
    "import tqdm\n",
    "import wandb"
   ]
  },
  {
   "cell_type": "code",
   "execution_count": null,
   "metadata": {},
   "outputs": [
    {
     "data": {
      "text/plain": [
       "device(type='cuda', index=0)"
      ]
     },
     "execution_count": 2,
     "metadata": {},
     "output_type": "execute_result"
    }
   ],
   "source": [
    "device = torch.device(\"cuda:0\" if torch.cuda.is_available() else \"cpu\")\n",
    "device\n",
    "# device = \"cpu\" # Due to CUDA error"
   ]
  },
  {
   "cell_type": "code",
   "execution_count": null,
   "metadata": {},
   "outputs": [
    {
     "name": "stderr",
     "output_type": "stream",
     "text": [
      "\u001b[34m\u001b[1mwandb\u001b[0m: Using wandb-core as the SDK backend.  Please refer to https://wandb.me/wandb-core for more information.\n",
      "\u001b[34m\u001b[1mwandb\u001b[0m: Currently logged in as: \u001b[33mszaryvip\u001b[0m (\u001b[33mmgr-few-shot\u001b[0m). Use \u001b[1m`wandb login --relogin`\u001b[0m to force relogin\n"
     ]
    },
    {
     "data": {
      "text/html": [
       "Tracking run with wandb version 0.19.0"
      ],
      "text/plain": [
       "<IPython.core.display.HTML object>"
      ]
     },
     "metadata": {},
     "output_type": "display_data"
    },
    {
     "data": {
      "text/html": [
       "Run data is saved locally in <code>/home/lszarejko/MGR/few-shot-image-classification/src/wandb/run-20241207_100145-ativv25o</code>"
      ],
      "text/plain": [
       "<IPython.core.display.HTML object>"
      ]
     },
     "metadata": {},
     "output_type": "display_data"
    },
    {
     "data": {
      "text/html": [
       "Syncing run <strong><a href='https://wandb.ai/mgr-few-shot/few-shot-learning/runs/ativv25o' target=\"_blank\">firm-water-32</a></strong> to <a href='https://wandb.ai/mgr-few-shot/few-shot-learning' target=\"_blank\">Weights & Biases</a> (<a href='https://wandb.me/developer-guide' target=\"_blank\">docs</a>)<br/>"
      ],
      "text/plain": [
       "<IPython.core.display.HTML object>"
      ]
     },
     "metadata": {},
     "output_type": "display_data"
    },
    {
     "data": {
      "text/html": [
       " View project at <a href='https://wandb.ai/mgr-few-shot/few-shot-learning' target=\"_blank\">https://wandb.ai/mgr-few-shot/few-shot-learning</a>"
      ],
      "text/plain": [
       "<IPython.core.display.HTML object>"
      ]
     },
     "metadata": {},
     "output_type": "display_data"
    },
    {
     "data": {
      "text/html": [
       " View run at <a href='https://wandb.ai/mgr-few-shot/few-shot-learning/runs/ativv25o' target=\"_blank\">https://wandb.ai/mgr-few-shot/few-shot-learning/runs/ativv25o</a>"
      ],
      "text/plain": [
       "<IPython.core.display.HTML object>"
      ]
     },
     "metadata": {},
     "output_type": "display_data"
    },
    {
     "data": {
      "text/html": [
       "<button onClick=\"this.nextSibling.style.display='block';this.style.display='none';\">Display W&B run</button><iframe src='https://wandb.ai/mgr-few-shot/few-shot-learning/runs/ativv25o?jupyter=true' style='border:none;width:100%;height:420px;display:none;'></iframe>"
      ],
      "text/plain": [
       "<wandb.sdk.wandb_run.Run at 0x7fbf66d9e770>"
      ]
     },
     "execution_count": 3,
     "metadata": {},
     "output_type": "execute_result"
    }
   ],
   "source": [
    "# wandb.init(project=\"few-shot-learning\", config={\"architecture\": \"PMF\", \"dataset\": \"mini-imagenet\"})"
   ]
  },
  {
   "cell_type": "code",
   "execution_count": null,
   "metadata": {},
   "outputs": [],
   "source": [
    "train_transform, test_transform = get_transform(\"timm/vit_base_patch16_clip_224.laion2b_ft_in12k_in1k\")\n",
    "# train_transform = torchvision.transforms.Compose(train_transform.transforms[:-2])\n",
    "# test_transform = torchvision.transforms.Compose(test_transform.transforms[:-2])\n",
    "train = download_data(Dataset.MINI_IMAGENET, DatasetType.TRAIN, transform=train_transform)\n",
    "valid = download_data(Dataset.MINI_IMAGENET, DatasetType.VAL, transform=test_transform)\n",
    "# test = download_data(Dataset.MINI_IMAGENET, DatasetType.TEST, transform=test_transform)"
   ]
  },
  {
   "cell_type": "code",
   "execution_count": null,
   "metadata": {},
   "outputs": [],
   "source": [
    "fe = get_pretrained_model(\"timm/vit_base_patch16_clip_224.laion2b_ft_in12k_in1k\")\n",
    "model = ProtoNet(backbone=fe).to(device)\n",
    "\n",
    "criterion = torch.nn.CrossEntropyLoss()\n",
    "optimizer = torch.optim.Adam(model.parameters(), lr=0.001)"
   ]
  },
  {
   "cell_type": "code",
   "execution_count": null,
   "metadata": {},
   "outputs": [
    {
     "name": "stdout",
     "output_type": "stream",
     "text": [
      "Learnable parameters: 85799426\n",
      "Non-learnable parameters: 0\n"
     ]
    },
    {
     "ename": "",
     "evalue": "",
     "output_type": "error",
     "traceback": [
      "\u001b[1;31mThe Kernel crashed while executing code in the current cell or a previous cell. \n",
      "\u001b[1;31mPlease review the code in the cell(s) to identify a possible cause of the failure. \n",
      "\u001b[1;31mClick <a href='https://aka.ms/vscodeJupyterKernelCrash'>here</a> for more info. \n",
      "\u001b[1;31mView Jupyter <a href='command:jupyter.viewOutput'>log</a> for further details."
     ]
    }
   ],
   "source": [
    "learnable_params = count_learnable_params(model)\n",
    "non_learnable_params = count_non_learnable_params(model)\n",
    "print(f\"Learnable parameters: {learnable_params}\")\n",
    "print(f\"Non-learnable parameters: {non_learnable_params}\")"
   ]
  },
  {
   "cell_type": "code",
   "execution_count": null,
   "metadata": {},
   "outputs": [],
   "source": [
    "way = 5\n",
    "shot = 3\n",
    "epochs = 5"
   ]
  },
  {
   "cell_type": "code",
   "execution_count": null,
   "metadata": {},
   "outputs": [],
   "source": [
    "train_dataset = l2l.data.MetaDataset(train)\n",
    "transforms = [\n",
    "    l2l.data.transforms.FusedNWaysKShots(train_dataset, n=way, k=shot+1),\n",
    "    l2l.data.transforms.LoadData(train_dataset),\n",
    "    l2l.data.transforms.RemapLabels(train_dataset),\n",
    "]\n",
    "\n",
    "train_tasksets = l2l.data.TaskDataset(train_dataset, task_transforms=transforms, num_tasks=10)\n",
    "train_loader = torch.utils.data.DataLoader(train_tasksets)"
   ]
  },
  {
   "cell_type": "code",
   "execution_count": null,
   "metadata": {},
   "outputs": [],
   "source": [
    "valid_dataset = l2l.data.MetaDataset(valid)\n",
    "transforms = [\n",
    "    l2l.data.transforms.FusedNWaysKShots(valid_dataset, n=way, k=shot+1),\n",
    "    l2l.data.transforms.LoadData(valid_dataset),\n",
    "    l2l.data.transforms.RemapLabels(valid_dataset),\n",
    "]\n",
    "valid_tasksets = l2l.data.Taskset(valid_dataset, task_transforms=transforms, num_tasks=10)\n",
    "valid_loader = torch.utils.data.DataLoader(valid_tasksets, shuffle=True)"
   ]
  },
  {
   "cell_type": "code",
   "execution_count": null,
   "metadata": {},
   "outputs": [],
   "source": [
    "# test_dataset = l2l.data.MetaDataset(test)\n",
    "# transforms = [\n",
    "#     l2l.data.transforms.FusedNWaysKShots(test_dataset, n=5, k=1),\n",
    "#     l2l.data.transforms.LoadData(test_dataset),\n",
    "#     l2l.data.transforms.RemapLabels(test_dataset),\n",
    "# ]\n",
    "# test_tasksets = l2l.data.Taskset(test_dataset, task_transforms=transforms, num_tasks=100)\n",
    "# test_loader = torch.utils.data.DataLoader(test_tasksets, shuffle=True)"
   ]
  },
  {
   "cell_type": "code",
   "execution_count": null,
   "metadata": {},
   "outputs": [
    {
     "name": "stderr",
     "output_type": "stream",
     "text": [
      "  0%|          | 0/5 [00:00<?, ?it/s]"
     ]
    },
    {
     "name": "stdout",
     "output_type": "stream",
     "text": [
      "Epoch 0 - Loss: 1.5947038650512695, Acc: 28.000000417232513\n"
     ]
    },
    {
     "name": "stderr",
     "output_type": "stream",
     "text": [
      " 20%|██        | 1/5 [01:15<05:00, 75.15s/it]"
     ]
    },
    {
     "name": "stdout",
     "output_type": "stream",
     "text": [
      "Validation - Loss: 1.6094436645507812, Acc: 30.400000676512718\n",
      "Epoch 1 - Loss: 1.609278154373169, Acc: 30.000000447034836\n"
     ]
    },
    {
     "name": "stderr",
     "output_type": "stream",
     "text": [
      " 40%|████      | 2/5 [02:29<03:44, 74.75s/it]"
     ]
    },
    {
     "name": "stdout",
     "output_type": "stream",
     "text": [
      "Validation - Loss: 1.6094324588775635, Acc: 29.200000688433647\n",
      "Epoch 2 - Loss: 1.6089608073234558, Acc: 28.000000566244125\n"
     ]
    },
    {
     "name": "stderr",
     "output_type": "stream",
     "text": [
      " 60%|██████    | 3/5 [03:43<02:28, 74.46s/it]"
     ]
    },
    {
     "name": "stdout",
     "output_type": "stream",
     "text": [
      "Validation - Loss: 1.6094083786010742, Acc: 29.200000643730164\n",
      "Epoch 3 - Loss: 1.6026477813720703, Acc: 26.00000038743019\n"
     ]
    },
    {
     "name": "stderr",
     "output_type": "stream",
     "text": [
      " 80%|████████  | 4/5 [04:57<01:14, 74.34s/it]"
     ]
    },
    {
     "name": "stdout",
     "output_type": "stream",
     "text": [
      "Validation - Loss: 1.6092277765274048, Acc: 28.800000593066216\n",
      "Epoch 4 - Loss: 1.6024526000022887, Acc: 28.000000566244125\n"
     ]
    },
    {
     "name": "stderr",
     "output_type": "stream",
     "text": [
      "100%|██████████| 5/5 [06:11<00:00, 74.40s/it]"
     ]
    },
    {
     "name": "stdout",
     "output_type": "stream",
     "text": [
      "Validation - Loss: 1.605920433998108, Acc: 28.60000056028366\n"
     ]
    },
    {
     "name": "stderr",
     "output_type": "stream",
     "text": [
      "\n"
     ]
    }
   ],
   "source": [
    "best_val_acc = 0\n",
    "for epoch in tqdm.tqdm(range(epochs)):\n",
    "    epoch_start = time.time()\n",
    "    # Training\n",
    "    model.train()\n",
    "    avg_loss = 0.0\n",
    "    avg_acc = 0.0\n",
    "    for i, (X, labels) in enumerate(train_loader):\n",
    "        optimizer.zero_grad()\n",
    "        X, labels = X.to(device), labels.to(device)\n",
    "        suppX, queryX, suppY, queryY = divide_into_query_and_support(X, labels, way, shot)\n",
    "        # print(f\"Support labels {suppY.view(-1)}, Query labels {queryY.view(-1)}\")\n",
    "        # print(f\"Support set shape: {suppX.shape}, Query set shape: {queryX.shape}\")\n",
    "        # print(f\"Support labels shape: {suppY.shape}, Query labels shape: {queryY.shape}\")\n",
    "        logits = model(suppX, suppY, queryX)\n",
    "        logits = logits.view(queryX.shape[0] * queryX.shape[1], -1)\n",
    "        loss = criterion(logits, queryY.view(-1))\n",
    "        loss.backward()\n",
    "        optimizer.step()\n",
    "        loss_value = loss.item()\n",
    "\n",
    "        acc = get_accuracy_from_logits(logits, queryY.view(-1))\n",
    "        avg_acc += acc\n",
    "        avg_loss += loss_value\n",
    "    train_epoch_time = time.time() - epoch_start\n",
    "    avg_acc = avg_acc / (i + 1)\n",
    "    avg_loss = avg_loss / (i + 1)\n",
    "    print(f\"Epoch {epoch} - Loss: {avg_loss}, Acc: {avg_acc}, Time: {train_epoch_time}\")\n",
    "    # wandb.log({\"train_acc\": acc, \"train_loss\": loss, \"train_epoch_time\": train_epoch_time})\n",
    "    \n",
    "    # torch.save(model.state_dict(), \"model.pth\")\n",
    "    # wandb.save(\"model.pth\")\n",
    "    \n",
    "    # Validation\n",
    "    model.eval()\n",
    "    avg_acc = 0.0\n",
    "    avg_loss = 0.0\n",
    "    with torch.no_grad():\n",
    "        for i, (X, labels) in enumerate(valid_loader):\n",
    "            X, labels = X.to(device), labels.to(device)\n",
    "            suppX, queryX, suppY, queryY = divide_into_query_and_support(X, labels, way, shot)\n",
    "            logits = model(suppX, suppY, queryX)\n",
    "            logits = logits.view(queryX.shape[0] * queryX.shape[1], -1)\n",
    "            loss = criterion(logits, queryY.view(-1))\n",
    "            \n",
    "            acc = get_accuracy_from_logits(logits, queryY.view(-1))\n",
    "            avg_acc += acc\n",
    "            avg_loss += loss_value\n",
    "    full_epoch_time = time.time() - epoch_start\n",
    "    avg_acc = avg_acc / (i + 1)\n",
    "    avg_loss = avg_loss / (i + 1)\n",
    "    print(f\"Validation - Loss: {avg_loss}, Acc: {avg_acc}, Time: {full_epoch_time}\")\n",
    "    # wandb.log({\"valid_acc\": acc, \"valid_loss\": loss, \"full_epoch_time\": full_epoch_time})\n",
    "    best_val_acc = max(best_val_acc, avg_acc)\n",
    "    \n",
    "    # if avg_acc >= best_val_acc:\n",
    "    #     torch.save(model.state_dict(), \"best_model.pth\")\n",
    "    #     wandb.save(\"best_model.pth\")\n",
    "    "
   ]
  },
  {
   "cell_type": "code",
   "execution_count": null,
   "metadata": {},
   "outputs": [
    {
     "data": {
      "text/html": [
       "\n",
       "    <style>\n",
       "        .wandb-row {\n",
       "            display: flex;\n",
       "            flex-direction: row;\n",
       "            flex-wrap: wrap;\n",
       "            justify-content: flex-start;\n",
       "            width: 100%;\n",
       "        }\n",
       "        .wandb-col {\n",
       "            display: flex;\n",
       "            flex-direction: column;\n",
       "            flex-basis: 100%;\n",
       "            flex: 1;\n",
       "            padding: 10px;\n",
       "        }\n",
       "    </style>\n",
       "<div class=\"wandb-row\"><div class=\"wandb-col\"><h3>Run history:</h3><br/><table class=\"wandb\"><tr><td>train_acc</td><td>▁▁███</td></tr><tr><td>train_loss</td><td>████▁</td></tr><tr><td>valid_acc</td><td>▅▅▁█▅</td></tr><tr><td>valid_loss</td><td>███▇▁</td></tr></table><br/></div><div class=\"wandb-col\"><h3>Run summary:</h3><br/><table class=\"wandb\"><tr><td>train_acc</td><td>20.0</td></tr><tr><td>train_loss</td><td>1.60592</td></tr><tr><td>valid_acc</td><td>20.0</td></tr><tr><td>valid_loss</td><td>1.60097</td></tr></table><br/></div></div>"
      ],
      "text/plain": [
       "<IPython.core.display.HTML object>"
      ]
     },
     "metadata": {},
     "output_type": "display_data"
    },
    {
     "data": {
      "text/html": [
       " View run <strong style=\"color:#cdcd00\">sunny-valley-31</strong> at: <a href='https://wandb.ai/mgr-few-shot/few-shot-learning/runs/k5es8mpm' target=\"_blank\">https://wandb.ai/mgr-few-shot/few-shot-learning/runs/k5es8mpm</a><br/> View project at: <a href='https://wandb.ai/mgr-few-shot/few-shot-learning' target=\"_blank\">https://wandb.ai/mgr-few-shot/few-shot-learning</a><br/>Synced 5 W&B file(s), 0 media file(s), 0 artifact file(s) and 0 other file(s)"
      ],
      "text/plain": [
       "<IPython.core.display.HTML object>"
      ]
     },
     "metadata": {},
     "output_type": "display_data"
    },
    {
     "data": {
      "text/html": [
       "Find logs at: <code>./wandb/run-20241207_094734-k5es8mpm/logs</code>"
      ],
      "text/plain": [
       "<IPython.core.display.HTML object>"
      ]
     },
     "metadata": {},
     "output_type": "display_data"
    }
   ],
   "source": [
    "# wandb.finish(exit_code=0)"
   ]
  },
  {
   "cell_type": "code",
   "execution_count": null,
   "metadata": {},
   "outputs": [],
   "source": []
  }
 ],
 "metadata": {
  "kernelspec": {
   "display_name": "few-shot",
   "language": "python",
   "name": "python3"
  },
  "language_info": {
   "codemirror_mode": {
    "name": "ipython",
    "version": 3
   },
   "file_extension": ".py",
   "mimetype": "text/x-python",
   "name": "python",
   "nbconvert_exporter": "python",
   "pygments_lexer": "ipython3",
   "version": "3.10.12"
  }
 },
 "nbformat": 4,
 "nbformat_minor": 2
}
