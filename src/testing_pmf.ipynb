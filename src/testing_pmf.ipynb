{
 "cells": [
  {
   "cell_type": "code",
   "execution_count": 1,
   "metadata": {},
   "outputs": [
    {
     "name": "stderr",
     "output_type": "stream",
     "text": [
      "/home/lszarejko/.pyenv/versions/few-shot/lib/python3.10/site-packages/tqdm/auto.py:21: TqdmWarning: IProgress not found. Please update jupyter and ipywidgets. See https://ipywidgets.readthedocs.io/en/stable/user_install.html\n",
      "  from .autonotebook import tqdm as notebook_tqdm\n"
     ]
    }
   ],
   "source": [
    "from datasets.download_data import download_data\n",
    "from datasets.consts import Dataset, DatasetType\n",
    "from datasets.get_data_loader import get_data_loader\n",
    "from models.protonet import ProtoNet,ProtoNet_Finetune\n",
    "from models.feature_extractor import get_pretrained_model, get_transform\n",
    "from utils import count_learnable_params, count_non_learnable_params\n",
    "from evaluate import eval_func\n",
    "from scheduler import WarmupCosineDecayScheduler\n",
    "from train import train_epoch\n",
    "import time\n",
    "import torch\n",
    "import tqdm\n",
    "import wandb"
   ]
  },
  {
   "cell_type": "code",
   "execution_count": 2,
   "metadata": {},
   "outputs": [
    {
     "data": {
      "text/plain": [
       "device(type='cuda', index=0)"
      ]
     },
     "execution_count": 2,
     "metadata": {},
     "output_type": "execute_result"
    }
   ],
   "source": [
    "device = torch.device(\"cuda:0\" if torch.cuda.is_available() else \"cpu\")\n",
    "device\n",
    "# device = \"cpu\" # Due to CUDA error"
   ]
  },
  {
   "cell_type": "code",
   "execution_count": 3,
   "metadata": {},
   "outputs": [],
   "source": [
    "# wandb.init(project=\"few-shot-learning\", config={\"architecture\": \"PMF\", \"dataset\": \"mini-imagenet\"})"
   ]
  },
  {
   "cell_type": "code",
   "execution_count": 4,
   "metadata": {},
   "outputs": [],
   "source": [
    "fe_train_transform, fe_test_transform = get_transform(\"timm/vit_small_patch16_224.dino\")\n",
    "train = download_data(Dataset.MINI_IMAGENET, DatasetType.TRAIN, transform=fe_train_transform)\n",
    "# valid = download_data(Dataset.MINI_IMAGENET, DatasetType.VAL, transform=fe_test_transform)\n",
    "test = download_data(Dataset.MINI_IMAGENET, DatasetType.TEST, transform=fe_test_transform)"
   ]
  },
  {
   "cell_type": "code",
   "execution_count": 5,
   "metadata": {},
   "outputs": [],
   "source": [
    "way = 5\n",
    "shot = 3\n",
    "epochs = 5\n",
    "warmup_epochs = 2"
   ]
  },
  {
   "cell_type": "code",
   "execution_count": 6,
   "metadata": {},
   "outputs": [],
   "source": [
    "\n",
    "\n",
    "\n",
    "fe = get_pretrained_model(\"timm/vit_small_patch16_224.dino\")\n",
    "model = ProtoNet(backbone=fe).to(device)\n",
    "\n",
    "criterion = torch.nn.CrossEntropyLoss()\n",
    "optimizer = torch.optim.Adam(model.parameters(), lr=1e-5)\n",
    "\n",
    "eta_min = 1e-6\n",
    "scheduler = WarmupCosineDecayScheduler(optimizer, warmup_epochs, epochs, eta_min)"
   ]
  },
  {
   "cell_type": "code",
   "execution_count": 7,
   "metadata": {},
   "outputs": [
    {
     "name": "stdout",
     "output_type": "stream",
     "text": [
      "Learnable parameters: 21665666\n",
      "Non-learnable parameters: 0\n"
     ]
    }
   ],
   "source": [
    "learnable_params = count_learnable_params(model)\n",
    "non_learnable_params = count_non_learnable_params(model)\n",
    "print(f\"Learnable parameters: {learnable_params}\")\n",
    "print(f\"Non-learnable parameters: {non_learnable_params}\")"
   ]
  },
  {
   "cell_type": "code",
   "execution_count": 8,
   "metadata": {},
   "outputs": [],
   "source": [
    "train_loader = get_data_loader(train, way, shot, 15, True)\n",
    "# valid_loader = get_data_loader(valid, way, shot, 15, False)\n",
    "test_laoder = get_data_loader(test, way, shot, 15, False)"
   ]
  },
  {
   "cell_type": "code",
   "execution_count": 9,
   "metadata": {},
   "outputs": [
    {
     "name": "stderr",
     "output_type": "stream",
     "text": [
      " 20%|██        | 1/5 [00:08<00:35,  8.82s/it]"
     ]
    },
    {
     "name": "stdout",
     "output_type": "stream",
     "text": [
      "Epoch 0 - Loss: 0.38, Acc: 90.667, Time: 8.823339223861694\n"
     ]
    },
    {
     "name": "stderr",
     "output_type": "stream",
     "text": [
      " 40%|████      | 2/5 [00:16<00:25,  8.44s/it]"
     ]
    },
    {
     "name": "stdout",
     "output_type": "stream",
     "text": [
      "Epoch 1 - Loss: 0.084, Acc: 100.0, Time: 8.165836334228516\n"
     ]
    },
    {
     "name": "stderr",
     "output_type": "stream",
     "text": [
      " 60%|██████    | 3/5 [00:25<00:16,  8.34s/it]"
     ]
    },
    {
     "name": "stdout",
     "output_type": "stream",
     "text": [
      "Epoch 2 - Loss: 0.029, Acc: 100.0, Time: 8.215368270874023\n"
     ]
    },
    {
     "name": "stderr",
     "output_type": "stream",
     "text": [
      " 80%|████████  | 4/5 [00:33<00:08,  8.31s/it]"
     ]
    },
    {
     "name": "stdout",
     "output_type": "stream",
     "text": [
      "Epoch 3 - Loss: 0.018, Acc: 100.0, Time: 8.274571657180786\n"
     ]
    },
    {
     "name": "stderr",
     "output_type": "stream",
     "text": [
      "100%|██████████| 5/5 [00:41<00:00,  8.36s/it]"
     ]
    },
    {
     "name": "stdout",
     "output_type": "stream",
     "text": [
      "Epoch 4 - Loss: 0.013, Acc: 100.0, Time: 8.312508821487427\n"
     ]
    },
    {
     "name": "stderr",
     "output_type": "stream",
     "text": [
      "\n"
     ]
    }
   ],
   "source": [
    "best_val_acc = 0\n",
    "for epoch in tqdm.tqdm(range(epochs)):\n",
    "    epoch_start = time.time()\n",
    "    avg_loss, avg_acc = train_epoch(model, train_loader, optimizer, scheduler, criterion, device, way, shot)\n",
    "    train_epoch_time = time.time() - epoch_start\n",
    "    print(f\"Epoch {epoch} - Loss: {avg_loss}, Acc: {avg_acc}, Time: {train_epoch_time}\")\n",
    "    # wandb.log({\"train_acc\": acc, \"train_loss\": loss, \"train_epoch_time\": train_epoch_time})\n",
    "    \n",
    "    # torch.save(model.state_dict(), \"model.pth\")\n",
    "    # wandb.save(\"model.pth\")\n",
    "    \n",
    "    # avg_loss, avg_acc = eval_func(model, valid_loader, criterion, device, way, shot)\n",
    "    # full_epoch_time = time.time() - epoch_start\n",
    "    # print(f\"Validation - Loss: {avg_loss}, Acc: {avg_acc}, Time: {full_epoch_time}\")\n",
    "    # wandb.log({\"valid_acc\": acc, \"valid_loss\": loss, \"full_epoch_time\": full_epoch_time})\n",
    "    \n",
    "    # best_val_acc = max(best_val_acc, avg_acc)\n",
    "    \n",
    "    # if avg_acc >= best_val_acc:\n",
    "    #     torch.save(model.state_dict(), \"best_model.pth\")\n",
    "    #     wandb.save(\"best_model.pth\")\n",
    "    "
   ]
  },
  {
   "cell_type": "code",
   "execution_count": null,
   "metadata": {},
   "outputs": [],
   "source": [
    "model_with_fn = ProtoNet_Finetune(backbone=fe, lr=1e-5).to(device) # problem with learning rate\n",
    "model_with_fn.load_state_dict(model.state_dict())"
   ]
  },
  {
   "cell_type": "code",
   "execution_count": 14,
   "metadata": {},
   "outputs": [
    {
     "name": "stdout",
     "output_type": "stream",
     "text": [
      "Test - Loss: 1.615, Acc: 26.667\n"
     ]
    }
   ],
   "source": [
    "avg_loss, avg_acc = eval_func(model_with_fn, test_laoder, criterion, device, way, shot)\n",
    "print(f\"Test - Loss: {avg_loss}, Acc: {avg_acc}\")"
   ]
  },
  {
   "cell_type": "code",
   "execution_count": 12,
   "metadata": {},
   "outputs": [],
   "source": [
    "# wandb.finish(exit_code=0)"
   ]
  }
 ],
 "metadata": {
  "kernelspec": {
   "display_name": "few-shot",
   "language": "python",
   "name": "python3"
  },
  "language_info": {
   "codemirror_mode": {
    "name": "ipython",
    "version": 3
   },
   "file_extension": ".py",
   "mimetype": "text/x-python",
   "name": "python",
   "nbconvert_exporter": "python",
   "pygments_lexer": "ipython3",
   "version": "3.10.12"
  }
 },
 "nbformat": 4,
 "nbformat_minor": 2
}
